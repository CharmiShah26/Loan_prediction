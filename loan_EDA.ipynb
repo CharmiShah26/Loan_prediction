{
 "cells": [
  {
   "cell_type": "markdown",
   "metadata": {},
   "source": [
    "# Loading Libraries"
   ]
  },
  {
   "cell_type": "code",
   "execution_count": 1,
   "metadata": {},
   "outputs": [],
   "source": [
    "import pandas as pd\n",
    "import numpy as np\n",
    "import matplotlib.pyplot as plt\n",
    "import seaborn as sns\n",
    "\n",
    "# so that u dont have warnings\n",
    "from warnings import filterwarnings\n",
    "filterwarnings('ignore')"
   ]
  },
  {
   "cell_type": "markdown",
   "metadata": {},
   "source": [
    "# Reading data"
   ]
  },
  {
   "cell_type": "code",
   "execution_count": 2,
   "metadata": {},
   "outputs": [],
   "source": [
    "# Reading restaurants data\n",
    "data_path_app = r'C:/Users/CHARMI/Desktop/data/applicant.csv'\n",
    "data_path_loan = r'C:/Users/CHARMI/Desktop/data/loan.csv'\n",
    "\n",
    "from pandas import read_csv"
   ]
  },
  {
   "cell_type": "code",
   "execution_count": 3,
   "metadata": {},
   "outputs": [
    {
     "name": "stdout",
     "output_type": "stream",
     "text": [
      "Applicant Dataset shape: (1000, 15)\n",
      "Loan Dataset shape: (1000, 13)\n"
     ]
    },
    {
     "data": {
      "text/html": [
       "<div>\n",
       "<style scoped>\n",
       "    .dataframe tbody tr th:only-of-type {\n",
       "        vertical-align: middle;\n",
       "    }\n",
       "\n",
       "    .dataframe tbody tr th {\n",
       "        vertical-align: top;\n",
       "    }\n",
       "\n",
       "    .dataframe thead th {\n",
       "        text-align: right;\n",
       "    }\n",
       "</style>\n",
       "<table border=\"1\" class=\"dataframe\">\n",
       "  <thead>\n",
       "    <tr style=\"text-align: right;\">\n",
       "      <th></th>\n",
       "      <th>loan_application_id</th>\n",
       "      <th>applicant_id</th>\n",
       "      <th>Months_loan_taken_for</th>\n",
       "      <th>Purpose</th>\n",
       "      <th>Principal_loan_amount</th>\n",
       "      <th>EMI_rate_in_percentage_of_disposable_income</th>\n",
       "      <th>Property</th>\n",
       "      <th>Has_coapplicant</th>\n",
       "      <th>Has_guarantor</th>\n",
       "      <th>Other_EMI_plans</th>\n",
       "      <th>Number_of_existing_loans_at_this_bank</th>\n",
       "      <th>Loan_history</th>\n",
       "      <th>high_risk_applicant</th>\n",
       "    </tr>\n",
       "  </thead>\n",
       "  <tbody>\n",
       "    <tr>\n",
       "      <th>0</th>\n",
       "      <td>d68d975e-edad-11ea-8761-1d6f9c1ff461</td>\n",
       "      <td>1469590</td>\n",
       "      <td>6</td>\n",
       "      <td>electronic equipment</td>\n",
       "      <td>1169000</td>\n",
       "      <td>4</td>\n",
       "      <td>real estate</td>\n",
       "      <td>0</td>\n",
       "      <td>0</td>\n",
       "      <td>NaN</td>\n",
       "      <td>2</td>\n",
       "      <td>critical/pending loans at other banks</td>\n",
       "      <td>0</td>\n",
       "    </tr>\n",
       "    <tr>\n",
       "      <th>1</th>\n",
       "      <td>d68d989e-edad-11ea-b1d5-2bcf65006448</td>\n",
       "      <td>1203873</td>\n",
       "      <td>48</td>\n",
       "      <td>electronic equipment</td>\n",
       "      <td>5951000</td>\n",
       "      <td>2</td>\n",
       "      <td>real estate</td>\n",
       "      <td>0</td>\n",
       "      <td>0</td>\n",
       "      <td>NaN</td>\n",
       "      <td>1</td>\n",
       "      <td>existing loans paid back duly till now</td>\n",
       "      <td>1</td>\n",
       "    </tr>\n",
       "    <tr>\n",
       "      <th>2</th>\n",
       "      <td>d68d995c-edad-11ea-814a-1b6716782575</td>\n",
       "      <td>1432761</td>\n",
       "      <td>12</td>\n",
       "      <td>education</td>\n",
       "      <td>2096000</td>\n",
       "      <td>2</td>\n",
       "      <td>real estate</td>\n",
       "      <td>0</td>\n",
       "      <td>0</td>\n",
       "      <td>NaN</td>\n",
       "      <td>1</td>\n",
       "      <td>critical/pending loans at other banks</td>\n",
       "      <td>0</td>\n",
       "    </tr>\n",
       "    <tr>\n",
       "      <th>3</th>\n",
       "      <td>d68d99fc-edad-11ea-8841-17e8848060ae</td>\n",
       "      <td>1207582</td>\n",
       "      <td>42</td>\n",
       "      <td>FF&amp;E</td>\n",
       "      <td>7882000</td>\n",
       "      <td>2</td>\n",
       "      <td>building society savings agreement/life insurance</td>\n",
       "      <td>0</td>\n",
       "      <td>1</td>\n",
       "      <td>NaN</td>\n",
       "      <td>1</td>\n",
       "      <td>existing loans paid back duly till now</td>\n",
       "      <td>0</td>\n",
       "    </tr>\n",
       "    <tr>\n",
       "      <th>4</th>\n",
       "      <td>d68d9a92-edad-11ea-9f3d-1f8682db006a</td>\n",
       "      <td>1674436</td>\n",
       "      <td>24</td>\n",
       "      <td>new vehicle</td>\n",
       "      <td>4870000</td>\n",
       "      <td>3</td>\n",
       "      <td>NaN</td>\n",
       "      <td>0</td>\n",
       "      <td>0</td>\n",
       "      <td>NaN</td>\n",
       "      <td>2</td>\n",
       "      <td>delay in paying off loans in the past</td>\n",
       "      <td>1</td>\n",
       "    </tr>\n",
       "  </tbody>\n",
       "</table>\n",
       "</div>"
      ],
      "text/plain": [
       "                    loan_application_id  applicant_id  Months_loan_taken_for  \\\n",
       "0  d68d975e-edad-11ea-8761-1d6f9c1ff461       1469590                      6   \n",
       "1  d68d989e-edad-11ea-b1d5-2bcf65006448       1203873                     48   \n",
       "2  d68d995c-edad-11ea-814a-1b6716782575       1432761                     12   \n",
       "3  d68d99fc-edad-11ea-8841-17e8848060ae       1207582                     42   \n",
       "4  d68d9a92-edad-11ea-9f3d-1f8682db006a       1674436                     24   \n",
       "\n",
       "                Purpose  Principal_loan_amount  \\\n",
       "0  electronic equipment                1169000   \n",
       "1  electronic equipment                5951000   \n",
       "2             education                2096000   \n",
       "3                  FF&E                7882000   \n",
       "4           new vehicle                4870000   \n",
       "\n",
       "   EMI_rate_in_percentage_of_disposable_income  \\\n",
       "0                                            4   \n",
       "1                                            2   \n",
       "2                                            2   \n",
       "3                                            2   \n",
       "4                                            3   \n",
       "\n",
       "                                            Property  Has_coapplicant  \\\n",
       "0                                        real estate                0   \n",
       "1                                        real estate                0   \n",
       "2                                        real estate                0   \n",
       "3  building society savings agreement/life insurance                0   \n",
       "4                                                NaN                0   \n",
       "\n",
       "   Has_guarantor Other_EMI_plans  Number_of_existing_loans_at_this_bank  \\\n",
       "0              0             NaN                                      2   \n",
       "1              0             NaN                                      1   \n",
       "2              0             NaN                                      1   \n",
       "3              1             NaN                                      1   \n",
       "4              0             NaN                                      2   \n",
       "\n",
       "                             Loan_history  high_risk_applicant  \n",
       "0   critical/pending loans at other banks                    0  \n",
       "1  existing loans paid back duly till now                    1  \n",
       "2   critical/pending loans at other banks                    0  \n",
       "3  existing loans paid back duly till now                    0  \n",
       "4   delay in paying off loans in the past                    1  "
      ]
     },
     "execution_count": 3,
     "metadata": {},
     "output_type": "execute_result"
    }
   ],
   "source": [
    "app= read_csv(data_path_app)\n",
    "loan= read_csv(data_path_loan)\n",
    "\n",
    "# Results\n",
    "print(f'Applicant Dataset shape: {app.shape}')\n",
    "print(f'Loan Dataset shape: {loan.shape}')\n",
    "\n",
    "loan.head()\n"
   ]
  },
  {
   "cell_type": "code",
   "execution_count": 4,
   "metadata": {},
   "outputs": [
    {
     "data": {
      "text/html": [
       "<div>\n",
       "<style scoped>\n",
       "    .dataframe tbody tr th:only-of-type {\n",
       "        vertical-align: middle;\n",
       "    }\n",
       "\n",
       "    .dataframe tbody tr th {\n",
       "        vertical-align: top;\n",
       "    }\n",
       "\n",
       "    .dataframe thead th {\n",
       "        text-align: right;\n",
       "    }\n",
       "</style>\n",
       "<table border=\"1\" class=\"dataframe\">\n",
       "  <thead>\n",
       "    <tr style=\"text-align: right;\">\n",
       "      <th></th>\n",
       "      <th>applicant_id</th>\n",
       "      <th>Primary_applicant_age_in_years</th>\n",
       "      <th>Gender</th>\n",
       "      <th>Marital_status</th>\n",
       "      <th>Number_of_dependents</th>\n",
       "      <th>Housing</th>\n",
       "      <th>Years_at_current_residence</th>\n",
       "      <th>Employment_status</th>\n",
       "      <th>Has_been_employed_for_at_least</th>\n",
       "      <th>Has_been_employed_for_at_most</th>\n",
       "      <th>Telephone</th>\n",
       "      <th>Foreign_worker</th>\n",
       "      <th>Savings_account_balance</th>\n",
       "      <th>Balance_in_existing_bank_account_(lower_limit_of_bucket)</th>\n",
       "      <th>Balance_in_existing_bank_account_(upper_limit_of_bucket)</th>\n",
       "    </tr>\n",
       "  </thead>\n",
       "  <tbody>\n",
       "    <tr>\n",
       "      <th>0</th>\n",
       "      <td>1469590</td>\n",
       "      <td>67</td>\n",
       "      <td>male</td>\n",
       "      <td>single</td>\n",
       "      <td>1</td>\n",
       "      <td>own</td>\n",
       "      <td>4</td>\n",
       "      <td>skilled employee / official</td>\n",
       "      <td>7 years</td>\n",
       "      <td>NaN</td>\n",
       "      <td>Registered under the applicant's name</td>\n",
       "      <td>1</td>\n",
       "      <td>NaN</td>\n",
       "      <td>NaN</td>\n",
       "      <td>0</td>\n",
       "    </tr>\n",
       "    <tr>\n",
       "      <th>1</th>\n",
       "      <td>1203873</td>\n",
       "      <td>22</td>\n",
       "      <td>female</td>\n",
       "      <td>divorced/separated/married</td>\n",
       "      <td>1</td>\n",
       "      <td>own</td>\n",
       "      <td>2</td>\n",
       "      <td>skilled employee / official</td>\n",
       "      <td>1 year</td>\n",
       "      <td>4 years</td>\n",
       "      <td>NaN</td>\n",
       "      <td>1</td>\n",
       "      <td>Low</td>\n",
       "      <td>0</td>\n",
       "      <td>2 lac</td>\n",
       "    </tr>\n",
       "    <tr>\n",
       "      <th>2</th>\n",
       "      <td>1432761</td>\n",
       "      <td>49</td>\n",
       "      <td>male</td>\n",
       "      <td>single</td>\n",
       "      <td>2</td>\n",
       "      <td>own</td>\n",
       "      <td>3</td>\n",
       "      <td>unskilled - resident</td>\n",
       "      <td>4 years</td>\n",
       "      <td>7 years</td>\n",
       "      <td>NaN</td>\n",
       "      <td>1</td>\n",
       "      <td>Low</td>\n",
       "      <td>NaN</td>\n",
       "      <td>NaN</td>\n",
       "    </tr>\n",
       "    <tr>\n",
       "      <th>3</th>\n",
       "      <td>1207582</td>\n",
       "      <td>45</td>\n",
       "      <td>male</td>\n",
       "      <td>single</td>\n",
       "      <td>2</td>\n",
       "      <td>for free</td>\n",
       "      <td>4</td>\n",
       "      <td>skilled employee / official</td>\n",
       "      <td>4 years</td>\n",
       "      <td>7 years</td>\n",
       "      <td>NaN</td>\n",
       "      <td>1</td>\n",
       "      <td>Low</td>\n",
       "      <td>NaN</td>\n",
       "      <td>0</td>\n",
       "    </tr>\n",
       "    <tr>\n",
       "      <th>4</th>\n",
       "      <td>1674436</td>\n",
       "      <td>53</td>\n",
       "      <td>male</td>\n",
       "      <td>single</td>\n",
       "      <td>2</td>\n",
       "      <td>for free</td>\n",
       "      <td>4</td>\n",
       "      <td>skilled employee / official</td>\n",
       "      <td>1 year</td>\n",
       "      <td>4 years</td>\n",
       "      <td>NaN</td>\n",
       "      <td>1</td>\n",
       "      <td>Low</td>\n",
       "      <td>NaN</td>\n",
       "      <td>0</td>\n",
       "    </tr>\n",
       "  </tbody>\n",
       "</table>\n",
       "</div>"
      ],
      "text/plain": [
       "   applicant_id  Primary_applicant_age_in_years  Gender  \\\n",
       "0       1469590                              67    male   \n",
       "1       1203873                              22  female   \n",
       "2       1432761                              49    male   \n",
       "3       1207582                              45    male   \n",
       "4       1674436                              53    male   \n",
       "\n",
       "               Marital_status  Number_of_dependents   Housing  \\\n",
       "0                      single                     1       own   \n",
       "1  divorced/separated/married                     1       own   \n",
       "2                      single                     2       own   \n",
       "3                      single                     2  for free   \n",
       "4                      single                     2  for free   \n",
       "\n",
       "   Years_at_current_residence            Employment_status  \\\n",
       "0                           4  skilled employee / official   \n",
       "1                           2  skilled employee / official   \n",
       "2                           3         unskilled - resident   \n",
       "3                           4  skilled employee / official   \n",
       "4                           4  skilled employee / official   \n",
       "\n",
       "  Has_been_employed_for_at_least Has_been_employed_for_at_most  \\\n",
       "0                        7 years                           NaN   \n",
       "1                         1 year                       4 years   \n",
       "2                        4 years                       7 years   \n",
       "3                        4 years                       7 years   \n",
       "4                         1 year                       4 years   \n",
       "\n",
       "                               Telephone  Foreign_worker  \\\n",
       "0  Registered under the applicant's name               1   \n",
       "1                                    NaN               1   \n",
       "2                                    NaN               1   \n",
       "3                                    NaN               1   \n",
       "4                                    NaN               1   \n",
       "\n",
       "  Savings_account_balance  \\\n",
       "0                     NaN   \n",
       "1                     Low   \n",
       "2                     Low   \n",
       "3                     Low   \n",
       "4                     Low   \n",
       "\n",
       "  Balance_in_existing_bank_account_(lower_limit_of_bucket)  \\\n",
       "0                                                NaN         \n",
       "1                                                  0         \n",
       "2                                                NaN         \n",
       "3                                                NaN         \n",
       "4                                                NaN         \n",
       "\n",
       "  Balance_in_existing_bank_account_(upper_limit_of_bucket)  \n",
       "0                                                  0        \n",
       "1                                              2 lac        \n",
       "2                                                NaN        \n",
       "3                                                  0        \n",
       "4                                                  0        "
      ]
     },
     "execution_count": 4,
     "metadata": {},
     "output_type": "execute_result"
    }
   ],
   "source": [
    "\n",
    "app.head()"
   ]
  },
  {
   "cell_type": "markdown",
   "metadata": {},
   "source": [
    "### Observations:\n",
    "* The application id seems in same order, thus they can be concatenated\n",
    "* Still we will analyze it in order to eliminate chances of missing rows "
   ]
  },
  {
   "cell_type": "markdown",
   "metadata": {},
   "source": [
    "# Concatenation of both dataset"
   ]
  },
  {
   "cell_type": "markdown",
   "metadata": {},
   "source": [
    "### Understanding both dataframes"
   ]
  },
  {
   "cell_type": "code",
   "execution_count": 5,
   "metadata": {},
   "outputs": [
    {
     "name": "stdout",
     "output_type": "stream",
     "text": [
      "<class 'pandas.core.frame.DataFrame'>\n",
      "RangeIndex: 1000 entries, 0 to 999\n",
      "Data columns (total 15 columns):\n",
      " #   Column                                                    Non-Null Count  Dtype \n",
      "---  ------                                                    --------------  ----- \n",
      " 0   applicant_id                                              1000 non-null   int64 \n",
      " 1   Primary_applicant_age_in_years                            1000 non-null   int64 \n",
      " 2   Gender                                                    1000 non-null   object\n",
      " 3   Marital_status                                            1000 non-null   object\n",
      " 4   Number_of_dependents                                      1000 non-null   int64 \n",
      " 5   Housing                                                   1000 non-null   object\n",
      " 6   Years_at_current_residence                                1000 non-null   int64 \n",
      " 7   Employment_status                                         1000 non-null   object\n",
      " 8   Has_been_employed_for_at_least                            938 non-null    object\n",
      " 9   Has_been_employed_for_at_most                             747 non-null    object\n",
      " 10  Telephone                                                 404 non-null    object\n",
      " 11  Foreign_worker                                            1000 non-null   int64 \n",
      " 12  Savings_account_balance                                   817 non-null    object\n",
      " 13  Balance_in_existing_bank_account_(lower_limit_of_bucket)  332 non-null    object\n",
      " 14  Balance_in_existing_bank_account_(upper_limit_of_bucket)  543 non-null    object\n",
      "dtypes: int64(5), object(10)\n",
      "memory usage: 117.3+ KB\n"
     ]
    }
   ],
   "source": [
    "app.info()"
   ]
  },
  {
   "cell_type": "code",
   "execution_count": 6,
   "metadata": {},
   "outputs": [
    {
     "name": "stdout",
     "output_type": "stream",
     "text": [
      "<class 'pandas.core.frame.DataFrame'>\n",
      "RangeIndex: 1000 entries, 0 to 999\n",
      "Data columns (total 13 columns):\n",
      " #   Column                                       Non-Null Count  Dtype \n",
      "---  ------                                       --------------  ----- \n",
      " 0   loan_application_id                          1000 non-null   object\n",
      " 1   applicant_id                                 1000 non-null   int64 \n",
      " 2   Months_loan_taken_for                        1000 non-null   int64 \n",
      " 3   Purpose                                      988 non-null    object\n",
      " 4   Principal_loan_amount                        1000 non-null   int64 \n",
      " 5   EMI_rate_in_percentage_of_disposable_income  1000 non-null   int64 \n",
      " 6   Property                                     846 non-null    object\n",
      " 7   Has_coapplicant                              1000 non-null   int64 \n",
      " 8   Has_guarantor                                1000 non-null   int64 \n",
      " 9   Other_EMI_plans                              186 non-null    object\n",
      " 10  Number_of_existing_loans_at_this_bank        1000 non-null   int64 \n",
      " 11  Loan_history                                 1000 non-null   object\n",
      " 12  high_risk_applicant                          1000 non-null   int64 \n",
      "dtypes: int64(8), object(5)\n",
      "memory usage: 101.7+ KB\n"
     ]
    }
   ],
   "source": [
    "loan.info()"
   ]
  },
  {
   "cell_type": "markdown",
   "metadata": {},
   "source": [
    "### Making sure that applicants ID are unique in both the dataset"
   ]
  },
  {
   "cell_type": "code",
   "execution_count": 7,
   "metadata": {},
   "outputs": [
    {
     "data": {
      "text/plain": [
       "1000"
      ]
     },
     "execution_count": 7,
     "metadata": {},
     "output_type": "execute_result"
    }
   ],
   "source": [
    "app['applicant_id'].nunique()"
   ]
  },
  {
   "cell_type": "code",
   "execution_count": 8,
   "metadata": {},
   "outputs": [
    {
     "data": {
      "text/plain": [
       "1000"
      ]
     },
     "execution_count": 8,
     "metadata": {},
     "output_type": "execute_result"
    }
   ],
   "source": [
    "loan['applicant_id'].nunique()"
   ]
  },
  {
   "cell_type": "markdown",
   "metadata": {},
   "source": [
    "### Checking if both the columns are equal or not for all the 1000 values before concatenating"
   ]
  },
  {
   "cell_type": "code",
   "execution_count": 9,
   "metadata": {},
   "outputs": [
    {
     "data": {
      "text/plain": [
       "True"
      ]
     },
     "execution_count": 9,
     "metadata": {},
     "output_type": "execute_result"
    }
   ],
   "source": [
    "app['applicant_id'].equals(loan['applicant_id'])"
   ]
  },
  {
   "cell_type": "markdown",
   "metadata": {},
   "source": [
    "Both columns are ready for concatenation"
   ]
  },
  {
   "cell_type": "code",
   "execution_count": 10,
   "metadata": {},
   "outputs": [
    {
     "data": {
      "text/html": [
       "<div>\n",
       "<style scoped>\n",
       "    .dataframe tbody tr th:only-of-type {\n",
       "        vertical-align: middle;\n",
       "    }\n",
       "\n",
       "    .dataframe tbody tr th {\n",
       "        vertical-align: top;\n",
       "    }\n",
       "\n",
       "    .dataframe thead th {\n",
       "        text-align: right;\n",
       "    }\n",
       "</style>\n",
       "<table border=\"1\" class=\"dataframe\">\n",
       "  <thead>\n",
       "    <tr style=\"text-align: right;\">\n",
       "      <th></th>\n",
       "      <th>applicant_id</th>\n",
       "      <th>Primary_applicant_age_in_years</th>\n",
       "      <th>Gender</th>\n",
       "      <th>Marital_status</th>\n",
       "      <th>Number_of_dependents</th>\n",
       "      <th>Housing</th>\n",
       "      <th>Years_at_current_residence</th>\n",
       "      <th>Employment_status</th>\n",
       "      <th>Has_been_employed_for_at_least</th>\n",
       "      <th>Has_been_employed_for_at_most</th>\n",
       "      <th>...</th>\n",
       "      <th>Purpose</th>\n",
       "      <th>Principal_loan_amount</th>\n",
       "      <th>EMI_rate_in_percentage_of_disposable_income</th>\n",
       "      <th>Property</th>\n",
       "      <th>Has_coapplicant</th>\n",
       "      <th>Has_guarantor</th>\n",
       "      <th>Other_EMI_plans</th>\n",
       "      <th>Number_of_existing_loans_at_this_bank</th>\n",
       "      <th>Loan_history</th>\n",
       "      <th>high_risk_applicant</th>\n",
       "    </tr>\n",
       "  </thead>\n",
       "  <tbody>\n",
       "    <tr>\n",
       "      <th>0</th>\n",
       "      <td>1469590</td>\n",
       "      <td>67</td>\n",
       "      <td>male</td>\n",
       "      <td>single</td>\n",
       "      <td>1</td>\n",
       "      <td>own</td>\n",
       "      <td>4</td>\n",
       "      <td>skilled employee / official</td>\n",
       "      <td>7 years</td>\n",
       "      <td>NaN</td>\n",
       "      <td>...</td>\n",
       "      <td>electronic equipment</td>\n",
       "      <td>1169000</td>\n",
       "      <td>4</td>\n",
       "      <td>real estate</td>\n",
       "      <td>0</td>\n",
       "      <td>0</td>\n",
       "      <td>NaN</td>\n",
       "      <td>2</td>\n",
       "      <td>critical/pending loans at other banks</td>\n",
       "      <td>0</td>\n",
       "    </tr>\n",
       "    <tr>\n",
       "      <th>1</th>\n",
       "      <td>1203873</td>\n",
       "      <td>22</td>\n",
       "      <td>female</td>\n",
       "      <td>divorced/separated/married</td>\n",
       "      <td>1</td>\n",
       "      <td>own</td>\n",
       "      <td>2</td>\n",
       "      <td>skilled employee / official</td>\n",
       "      <td>1 year</td>\n",
       "      <td>4 years</td>\n",
       "      <td>...</td>\n",
       "      <td>electronic equipment</td>\n",
       "      <td>5951000</td>\n",
       "      <td>2</td>\n",
       "      <td>real estate</td>\n",
       "      <td>0</td>\n",
       "      <td>0</td>\n",
       "      <td>NaN</td>\n",
       "      <td>1</td>\n",
       "      <td>existing loans paid back duly till now</td>\n",
       "      <td>1</td>\n",
       "    </tr>\n",
       "    <tr>\n",
       "      <th>2</th>\n",
       "      <td>1432761</td>\n",
       "      <td>49</td>\n",
       "      <td>male</td>\n",
       "      <td>single</td>\n",
       "      <td>2</td>\n",
       "      <td>own</td>\n",
       "      <td>3</td>\n",
       "      <td>unskilled - resident</td>\n",
       "      <td>4 years</td>\n",
       "      <td>7 years</td>\n",
       "      <td>...</td>\n",
       "      <td>education</td>\n",
       "      <td>2096000</td>\n",
       "      <td>2</td>\n",
       "      <td>real estate</td>\n",
       "      <td>0</td>\n",
       "      <td>0</td>\n",
       "      <td>NaN</td>\n",
       "      <td>1</td>\n",
       "      <td>critical/pending loans at other banks</td>\n",
       "      <td>0</td>\n",
       "    </tr>\n",
       "    <tr>\n",
       "      <th>3</th>\n",
       "      <td>1207582</td>\n",
       "      <td>45</td>\n",
       "      <td>male</td>\n",
       "      <td>single</td>\n",
       "      <td>2</td>\n",
       "      <td>for free</td>\n",
       "      <td>4</td>\n",
       "      <td>skilled employee / official</td>\n",
       "      <td>4 years</td>\n",
       "      <td>7 years</td>\n",
       "      <td>...</td>\n",
       "      <td>FF&amp;E</td>\n",
       "      <td>7882000</td>\n",
       "      <td>2</td>\n",
       "      <td>building society savings agreement/life insurance</td>\n",
       "      <td>0</td>\n",
       "      <td>1</td>\n",
       "      <td>NaN</td>\n",
       "      <td>1</td>\n",
       "      <td>existing loans paid back duly till now</td>\n",
       "      <td>0</td>\n",
       "    </tr>\n",
       "    <tr>\n",
       "      <th>4</th>\n",
       "      <td>1674436</td>\n",
       "      <td>53</td>\n",
       "      <td>male</td>\n",
       "      <td>single</td>\n",
       "      <td>2</td>\n",
       "      <td>for free</td>\n",
       "      <td>4</td>\n",
       "      <td>skilled employee / official</td>\n",
       "      <td>1 year</td>\n",
       "      <td>4 years</td>\n",
       "      <td>...</td>\n",
       "      <td>new vehicle</td>\n",
       "      <td>4870000</td>\n",
       "      <td>3</td>\n",
       "      <td>NaN</td>\n",
       "      <td>0</td>\n",
       "      <td>0</td>\n",
       "      <td>NaN</td>\n",
       "      <td>2</td>\n",
       "      <td>delay in paying off loans in the past</td>\n",
       "      <td>1</td>\n",
       "    </tr>\n",
       "  </tbody>\n",
       "</table>\n",
       "<p>5 rows × 27 columns</p>\n",
       "</div>"
      ],
      "text/plain": [
       "   applicant_id  Primary_applicant_age_in_years  Gender  \\\n",
       "0       1469590                              67    male   \n",
       "1       1203873                              22  female   \n",
       "2       1432761                              49    male   \n",
       "3       1207582                              45    male   \n",
       "4       1674436                              53    male   \n",
       "\n",
       "               Marital_status  Number_of_dependents   Housing  \\\n",
       "0                      single                     1       own   \n",
       "1  divorced/separated/married                     1       own   \n",
       "2                      single                     2       own   \n",
       "3                      single                     2  for free   \n",
       "4                      single                     2  for free   \n",
       "\n",
       "   Years_at_current_residence            Employment_status  \\\n",
       "0                           4  skilled employee / official   \n",
       "1                           2  skilled employee / official   \n",
       "2                           3         unskilled - resident   \n",
       "3                           4  skilled employee / official   \n",
       "4                           4  skilled employee / official   \n",
       "\n",
       "  Has_been_employed_for_at_least Has_been_employed_for_at_most  ...  \\\n",
       "0                        7 years                           NaN  ...   \n",
       "1                         1 year                       4 years  ...   \n",
       "2                        4 years                       7 years  ...   \n",
       "3                        4 years                       7 years  ...   \n",
       "4                         1 year                       4 years  ...   \n",
       "\n",
       "                Purpose  Principal_loan_amount  \\\n",
       "0  electronic equipment                1169000   \n",
       "1  electronic equipment                5951000   \n",
       "2             education                2096000   \n",
       "3                  FF&E                7882000   \n",
       "4           new vehicle                4870000   \n",
       "\n",
       "  EMI_rate_in_percentage_of_disposable_income  \\\n",
       "0                                           4   \n",
       "1                                           2   \n",
       "2                                           2   \n",
       "3                                           2   \n",
       "4                                           3   \n",
       "\n",
       "                                            Property Has_coapplicant  \\\n",
       "0                                        real estate               0   \n",
       "1                                        real estate               0   \n",
       "2                                        real estate               0   \n",
       "3  building society savings agreement/life insurance               0   \n",
       "4                                                NaN               0   \n",
       "\n",
       "  Has_guarantor  Other_EMI_plans Number_of_existing_loans_at_this_bank  \\\n",
       "0             0              NaN                                     2   \n",
       "1             0              NaN                                     1   \n",
       "2             0              NaN                                     1   \n",
       "3             1              NaN                                     1   \n",
       "4             0              NaN                                     2   \n",
       "\n",
       "                             Loan_history  high_risk_applicant  \n",
       "0   critical/pending loans at other banks                    0  \n",
       "1  existing loans paid back duly till now                    1  \n",
       "2   critical/pending loans at other banks                    0  \n",
       "3  existing loans paid back duly till now                    0  \n",
       "4   delay in paying off loans in the past                    1  \n",
       "\n",
       "[5 rows x 27 columns]"
      ]
     },
     "execution_count": 10,
     "metadata": {},
     "output_type": "execute_result"
    }
   ],
   "source": [
    "df_sample= pd.merge(app, loan, on=[\"applicant_id\"])\n",
    "df=df_sample\n",
    "df.head(5)\n"
   ]
  },
  {
   "cell_type": "markdown",
   "metadata": {},
   "source": [
    "The columns are successfull concatenated with 27 columns in total ( inidividual addition of columns for both dataset is 28, merging on common column yielded 27 columns)"
   ]
  },
  {
   "cell_type": "markdown",
   "metadata": {},
   "source": [
    "# An overview"
   ]
  },
  {
   "cell_type": "markdown",
   "metadata": {},
   "source": [
    "## Overview"
   ]
  },
  {
   "cell_type": "code",
   "execution_count": 11,
   "metadata": {},
   "outputs": [
    {
     "name": "stdout",
     "output_type": "stream",
     "text": [
      "<class 'pandas.core.frame.DataFrame'>\n",
      "Int64Index: 1000 entries, 0 to 999\n",
      "Data columns (total 27 columns):\n",
      " #   Column                                                    Non-Null Count  Dtype \n",
      "---  ------                                                    --------------  ----- \n",
      " 0   applicant_id                                              1000 non-null   int64 \n",
      " 1   Primary_applicant_age_in_years                            1000 non-null   int64 \n",
      " 2   Gender                                                    1000 non-null   object\n",
      " 3   Marital_status                                            1000 non-null   object\n",
      " 4   Number_of_dependents                                      1000 non-null   int64 \n",
      " 5   Housing                                                   1000 non-null   object\n",
      " 6   Years_at_current_residence                                1000 non-null   int64 \n",
      " 7   Employment_status                                         1000 non-null   object\n",
      " 8   Has_been_employed_for_at_least                            938 non-null    object\n",
      " 9   Has_been_employed_for_at_most                             747 non-null    object\n",
      " 10  Telephone                                                 404 non-null    object\n",
      " 11  Foreign_worker                                            1000 non-null   int64 \n",
      " 12  Savings_account_balance                                   817 non-null    object\n",
      " 13  Balance_in_existing_bank_account_(lower_limit_of_bucket)  332 non-null    object\n",
      " 14  Balance_in_existing_bank_account_(upper_limit_of_bucket)  543 non-null    object\n",
      " 15  loan_application_id                                       1000 non-null   object\n",
      " 16  Months_loan_taken_for                                     1000 non-null   int64 \n",
      " 17  Purpose                                                   988 non-null    object\n",
      " 18  Principal_loan_amount                                     1000 non-null   int64 \n",
      " 19  EMI_rate_in_percentage_of_disposable_income               1000 non-null   int64 \n",
      " 20  Property                                                  846 non-null    object\n",
      " 21  Has_coapplicant                                           1000 non-null   int64 \n",
      " 22  Has_guarantor                                             1000 non-null   int64 \n",
      " 23  Other_EMI_plans                                           186 non-null    object\n",
      " 24  Number_of_existing_loans_at_this_bank                     1000 non-null   int64 \n",
      " 25  Loan_history                                              1000 non-null   object\n",
      " 26  high_risk_applicant                                       1000 non-null   int64 \n",
      "dtypes: int64(12), object(15)\n",
      "memory usage: 218.8+ KB\n"
     ]
    }
   ],
   "source": [
    "df.info()"
   ]
  },
  {
   "cell_type": "markdown",
   "metadata": {},
   "source": [
    "* We can see there are total 26 columns including target variable (high_risk_applicant), all of them are self explanatory.\n",
    "* We also see some missing values, lets take stock of missing columns and what are the possible values for categorical and numerical columns"
   ]
  },
  {
   "cell_type": "code",
   "execution_count": 12,
   "metadata": {},
   "outputs": [
    {
     "data": {
      "text/plain": [
       "applicant_id                                                  0\n",
       "Primary_applicant_age_in_years                                0\n",
       "Gender                                                        0\n",
       "Marital_status                                                0\n",
       "Number_of_dependents                                          0\n",
       "Housing                                                       0\n",
       "Years_at_current_residence                                    0\n",
       "Employment_status                                             0\n",
       "Has_been_employed_for_at_least                               62\n",
       "Has_been_employed_for_at_most                               253\n",
       "Telephone                                                   596\n",
       "Foreign_worker                                                0\n",
       "Savings_account_balance                                     183\n",
       "Balance_in_existing_bank_account_(lower_limit_of_bucket)    668\n",
       "Balance_in_existing_bank_account_(upper_limit_of_bucket)    457\n",
       "loan_application_id                                           0\n",
       "Months_loan_taken_for                                         0\n",
       "Purpose                                                      12\n",
       "Principal_loan_amount                                         0\n",
       "EMI_rate_in_percentage_of_disposable_income                   0\n",
       "Property                                                    154\n",
       "Has_coapplicant                                               0\n",
       "Has_guarantor                                                 0\n",
       "Other_EMI_plans                                             814\n",
       "Number_of_existing_loans_at_this_bank                         0\n",
       "Loan_history                                                  0\n",
       "high_risk_applicant                                           0\n",
       "dtype: int64"
      ]
     },
     "execution_count": 12,
     "metadata": {},
     "output_type": "execute_result"
    }
   ],
   "source": [
    "df.isnull().sum()"
   ]
  },
  {
   "cell_type": "markdown",
   "metadata": {},
   "source": [
    "### getting all NaN features"
   ]
  },
  {
   "cell_type": "code",
   "execution_count": 13,
   "metadata": {},
   "outputs": [
    {
     "data": {
      "text/plain": [
       "['Has_been_employed_for_at_least',\n",
       " 'Has_been_employed_for_at_most',\n",
       " 'Telephone',\n",
       " 'Savings_account_balance',\n",
       " 'Balance_in_existing_bank_account_(lower_limit_of_bucket)',\n",
       " 'Balance_in_existing_bank_account_(upper_limit_of_bucket)',\n",
       " 'Purpose',\n",
       " 'Property',\n",
       " 'Other_EMI_plans']"
      ]
     },
     "execution_count": 13,
     "metadata": {},
     "output_type": "execute_result"
    }
   ],
   "source": [
    "feature_na=[feature for feature in df.columns if df[feature].isnull().sum()>0]\n",
    "feature_na"
   ]
  },
  {
   "cell_type": "code",
   "execution_count": 14,
   "metadata": {},
   "outputs": [
    {
     "name": "stdout",
     "output_type": "stream",
     "text": [
      "Has_been_employed_for_at_least has 6.2 % missing values\n",
      "Has_been_employed_for_at_most has 25.3 % missing values\n",
      "Telephone has 59.6 % missing values\n",
      "Savings_account_balance has 18.3 % missing values\n",
      "Balance_in_existing_bank_account_(lower_limit_of_bucket) has 66.8 % missing values\n",
      "Balance_in_existing_bank_account_(upper_limit_of_bucket) has 45.7 % missing values\n",
      "Purpose has 1.2 % missing values\n",
      "Property has 15.4 % missing values\n",
      "Other_EMI_plans has 81.4 % missing values\n"
     ]
    }
   ],
   "source": [
    "# % of missing values\n",
    "import numpy as np\n",
    "for feature in feature_na:\n",
    "    print('{} has {} % missing values'.format(feature,np.round(df[feature].isnull().sum()/len(df)*100,4)))"
   ]
  },
  {
   "cell_type": "code",
   "execution_count": 15,
   "metadata": {},
   "outputs": [],
   "source": [
    "pd.set_option('display.max_columns', None)"
   ]
  },
  {
   "cell_type": "code",
   "execution_count": 16,
   "metadata": {},
   "outputs": [
    {
     "data": {
      "text/html": [
       "<div>\n",
       "<style scoped>\n",
       "    .dataframe tbody tr th:only-of-type {\n",
       "        vertical-align: middle;\n",
       "    }\n",
       "\n",
       "    .dataframe tbody tr th {\n",
       "        vertical-align: top;\n",
       "    }\n",
       "\n",
       "    .dataframe thead th {\n",
       "        text-align: right;\n",
       "    }\n",
       "</style>\n",
       "<table border=\"1\" class=\"dataframe\">\n",
       "  <thead>\n",
       "    <tr style=\"text-align: right;\">\n",
       "      <th></th>\n",
       "      <th>applicant_id</th>\n",
       "      <th>Primary_applicant_age_in_years</th>\n",
       "      <th>Gender</th>\n",
       "      <th>Marital_status</th>\n",
       "      <th>Number_of_dependents</th>\n",
       "      <th>Housing</th>\n",
       "      <th>Years_at_current_residence</th>\n",
       "      <th>Employment_status</th>\n",
       "      <th>Has_been_employed_for_at_least</th>\n",
       "      <th>Has_been_employed_for_at_most</th>\n",
       "      <th>Telephone</th>\n",
       "      <th>Foreign_worker</th>\n",
       "      <th>Savings_account_balance</th>\n",
       "      <th>Balance_in_existing_bank_account_(lower_limit_of_bucket)</th>\n",
       "      <th>Balance_in_existing_bank_account_(upper_limit_of_bucket)</th>\n",
       "      <th>loan_application_id</th>\n",
       "      <th>Months_loan_taken_for</th>\n",
       "      <th>Purpose</th>\n",
       "      <th>Principal_loan_amount</th>\n",
       "      <th>EMI_rate_in_percentage_of_disposable_income</th>\n",
       "      <th>Property</th>\n",
       "      <th>Has_coapplicant</th>\n",
       "      <th>Has_guarantor</th>\n",
       "      <th>Other_EMI_plans</th>\n",
       "      <th>Number_of_existing_loans_at_this_bank</th>\n",
       "      <th>Loan_history</th>\n",
       "      <th>high_risk_applicant</th>\n",
       "    </tr>\n",
       "  </thead>\n",
       "  <tbody>\n",
       "    <tr>\n",
       "      <th>0</th>\n",
       "      <td>1469590</td>\n",
       "      <td>67</td>\n",
       "      <td>male</td>\n",
       "      <td>single</td>\n",
       "      <td>1</td>\n",
       "      <td>own</td>\n",
       "      <td>4</td>\n",
       "      <td>skilled employee / official</td>\n",
       "      <td>7 years</td>\n",
       "      <td>NaN</td>\n",
       "      <td>Registered under the applicant's name</td>\n",
       "      <td>1</td>\n",
       "      <td>NaN</td>\n",
       "      <td>NaN</td>\n",
       "      <td>0</td>\n",
       "      <td>d68d975e-edad-11ea-8761-1d6f9c1ff461</td>\n",
       "      <td>6</td>\n",
       "      <td>electronic equipment</td>\n",
       "      <td>1169000</td>\n",
       "      <td>4</td>\n",
       "      <td>real estate</td>\n",
       "      <td>0</td>\n",
       "      <td>0</td>\n",
       "      <td>NaN</td>\n",
       "      <td>2</td>\n",
       "      <td>critical/pending loans at other banks</td>\n",
       "      <td>0</td>\n",
       "    </tr>\n",
       "    <tr>\n",
       "      <th>1</th>\n",
       "      <td>1203873</td>\n",
       "      <td>22</td>\n",
       "      <td>female</td>\n",
       "      <td>divorced/separated/married</td>\n",
       "      <td>1</td>\n",
       "      <td>own</td>\n",
       "      <td>2</td>\n",
       "      <td>skilled employee / official</td>\n",
       "      <td>1 year</td>\n",
       "      <td>4 years</td>\n",
       "      <td>NaN</td>\n",
       "      <td>1</td>\n",
       "      <td>Low</td>\n",
       "      <td>0</td>\n",
       "      <td>2 lac</td>\n",
       "      <td>d68d989e-edad-11ea-b1d5-2bcf65006448</td>\n",
       "      <td>48</td>\n",
       "      <td>electronic equipment</td>\n",
       "      <td>5951000</td>\n",
       "      <td>2</td>\n",
       "      <td>real estate</td>\n",
       "      <td>0</td>\n",
       "      <td>0</td>\n",
       "      <td>NaN</td>\n",
       "      <td>1</td>\n",
       "      <td>existing loans paid back duly till now</td>\n",
       "      <td>1</td>\n",
       "    </tr>\n",
       "    <tr>\n",
       "      <th>2</th>\n",
       "      <td>1432761</td>\n",
       "      <td>49</td>\n",
       "      <td>male</td>\n",
       "      <td>single</td>\n",
       "      <td>2</td>\n",
       "      <td>own</td>\n",
       "      <td>3</td>\n",
       "      <td>unskilled - resident</td>\n",
       "      <td>4 years</td>\n",
       "      <td>7 years</td>\n",
       "      <td>NaN</td>\n",
       "      <td>1</td>\n",
       "      <td>Low</td>\n",
       "      <td>NaN</td>\n",
       "      <td>NaN</td>\n",
       "      <td>d68d995c-edad-11ea-814a-1b6716782575</td>\n",
       "      <td>12</td>\n",
       "      <td>education</td>\n",
       "      <td>2096000</td>\n",
       "      <td>2</td>\n",
       "      <td>real estate</td>\n",
       "      <td>0</td>\n",
       "      <td>0</td>\n",
       "      <td>NaN</td>\n",
       "      <td>1</td>\n",
       "      <td>critical/pending loans at other banks</td>\n",
       "      <td>0</td>\n",
       "    </tr>\n",
       "    <tr>\n",
       "      <th>3</th>\n",
       "      <td>1207582</td>\n",
       "      <td>45</td>\n",
       "      <td>male</td>\n",
       "      <td>single</td>\n",
       "      <td>2</td>\n",
       "      <td>for free</td>\n",
       "      <td>4</td>\n",
       "      <td>skilled employee / official</td>\n",
       "      <td>4 years</td>\n",
       "      <td>7 years</td>\n",
       "      <td>NaN</td>\n",
       "      <td>1</td>\n",
       "      <td>Low</td>\n",
       "      <td>NaN</td>\n",
       "      <td>0</td>\n",
       "      <td>d68d99fc-edad-11ea-8841-17e8848060ae</td>\n",
       "      <td>42</td>\n",
       "      <td>FF&amp;E</td>\n",
       "      <td>7882000</td>\n",
       "      <td>2</td>\n",
       "      <td>building society savings agreement/life insurance</td>\n",
       "      <td>0</td>\n",
       "      <td>1</td>\n",
       "      <td>NaN</td>\n",
       "      <td>1</td>\n",
       "      <td>existing loans paid back duly till now</td>\n",
       "      <td>0</td>\n",
       "    </tr>\n",
       "    <tr>\n",
       "      <th>4</th>\n",
       "      <td>1674436</td>\n",
       "      <td>53</td>\n",
       "      <td>male</td>\n",
       "      <td>single</td>\n",
       "      <td>2</td>\n",
       "      <td>for free</td>\n",
       "      <td>4</td>\n",
       "      <td>skilled employee / official</td>\n",
       "      <td>1 year</td>\n",
       "      <td>4 years</td>\n",
       "      <td>NaN</td>\n",
       "      <td>1</td>\n",
       "      <td>Low</td>\n",
       "      <td>NaN</td>\n",
       "      <td>0</td>\n",
       "      <td>d68d9a92-edad-11ea-9f3d-1f8682db006a</td>\n",
       "      <td>24</td>\n",
       "      <td>new vehicle</td>\n",
       "      <td>4870000</td>\n",
       "      <td>3</td>\n",
       "      <td>NaN</td>\n",
       "      <td>0</td>\n",
       "      <td>0</td>\n",
       "      <td>NaN</td>\n",
       "      <td>2</td>\n",
       "      <td>delay in paying off loans in the past</td>\n",
       "      <td>1</td>\n",
       "    </tr>\n",
       "  </tbody>\n",
       "</table>\n",
       "</div>"
      ],
      "text/plain": [
       "   applicant_id  Primary_applicant_age_in_years  Gender  \\\n",
       "0       1469590                              67    male   \n",
       "1       1203873                              22  female   \n",
       "2       1432761                              49    male   \n",
       "3       1207582                              45    male   \n",
       "4       1674436                              53    male   \n",
       "\n",
       "               Marital_status  Number_of_dependents   Housing  \\\n",
       "0                      single                     1       own   \n",
       "1  divorced/separated/married                     1       own   \n",
       "2                      single                     2       own   \n",
       "3                      single                     2  for free   \n",
       "4                      single                     2  for free   \n",
       "\n",
       "   Years_at_current_residence            Employment_status  \\\n",
       "0                           4  skilled employee / official   \n",
       "1                           2  skilled employee / official   \n",
       "2                           3         unskilled - resident   \n",
       "3                           4  skilled employee / official   \n",
       "4                           4  skilled employee / official   \n",
       "\n",
       "  Has_been_employed_for_at_least Has_been_employed_for_at_most  \\\n",
       "0                        7 years                           NaN   \n",
       "1                         1 year                       4 years   \n",
       "2                        4 years                       7 years   \n",
       "3                        4 years                       7 years   \n",
       "4                         1 year                       4 years   \n",
       "\n",
       "                               Telephone  Foreign_worker  \\\n",
       "0  Registered under the applicant's name               1   \n",
       "1                                    NaN               1   \n",
       "2                                    NaN               1   \n",
       "3                                    NaN               1   \n",
       "4                                    NaN               1   \n",
       "\n",
       "  Savings_account_balance  \\\n",
       "0                     NaN   \n",
       "1                     Low   \n",
       "2                     Low   \n",
       "3                     Low   \n",
       "4                     Low   \n",
       "\n",
       "  Balance_in_existing_bank_account_(lower_limit_of_bucket)  \\\n",
       "0                                                NaN         \n",
       "1                                                  0         \n",
       "2                                                NaN         \n",
       "3                                                NaN         \n",
       "4                                                NaN         \n",
       "\n",
       "  Balance_in_existing_bank_account_(upper_limit_of_bucket)  \\\n",
       "0                                                  0         \n",
       "1                                              2 lac         \n",
       "2                                                NaN         \n",
       "3                                                  0         \n",
       "4                                                  0         \n",
       "\n",
       "                    loan_application_id  Months_loan_taken_for  \\\n",
       "0  d68d975e-edad-11ea-8761-1d6f9c1ff461                      6   \n",
       "1  d68d989e-edad-11ea-b1d5-2bcf65006448                     48   \n",
       "2  d68d995c-edad-11ea-814a-1b6716782575                     12   \n",
       "3  d68d99fc-edad-11ea-8841-17e8848060ae                     42   \n",
       "4  d68d9a92-edad-11ea-9f3d-1f8682db006a                     24   \n",
       "\n",
       "                Purpose  Principal_loan_amount  \\\n",
       "0  electronic equipment                1169000   \n",
       "1  electronic equipment                5951000   \n",
       "2             education                2096000   \n",
       "3                  FF&E                7882000   \n",
       "4           new vehicle                4870000   \n",
       "\n",
       "   EMI_rate_in_percentage_of_disposable_income  \\\n",
       "0                                            4   \n",
       "1                                            2   \n",
       "2                                            2   \n",
       "3                                            2   \n",
       "4                                            3   \n",
       "\n",
       "                                            Property  Has_coapplicant  \\\n",
       "0                                        real estate                0   \n",
       "1                                        real estate                0   \n",
       "2                                        real estate                0   \n",
       "3  building society savings agreement/life insurance                0   \n",
       "4                                                NaN                0   \n",
       "\n",
       "   Has_guarantor Other_EMI_plans  Number_of_existing_loans_at_this_bank  \\\n",
       "0              0             NaN                                      2   \n",
       "1              0             NaN                                      1   \n",
       "2              0             NaN                                      1   \n",
       "3              1             NaN                                      1   \n",
       "4              0             NaN                                      2   \n",
       "\n",
       "                             Loan_history  high_risk_applicant  \n",
       "0   critical/pending loans at other banks                    0  \n",
       "1  existing loans paid back duly till now                    1  \n",
       "2   critical/pending loans at other banks                    0  \n",
       "3  existing loans paid back duly till now                    0  \n",
       "4   delay in paying off loans in the past                    1  "
      ]
     },
     "execution_count": 16,
     "metadata": {},
     "output_type": "execute_result"
    }
   ],
   "source": [
    "df.head(5)"
   ]
  },
  {
   "cell_type": "markdown",
   "metadata": {},
   "source": [
    "## Dealing with data\n",
    "* Resolving missing values\n",
    "* grouping the dataset based on values\n"
   ]
  },
  {
   "cell_type": "markdown",
   "metadata": {},
   "source": [
    "### 1. For Balance in existing bank account"
   ]
  },
  {
   "cell_type": "code",
   "execution_count": 17,
   "metadata": {},
   "outputs": [
    {
     "data": {
      "text/plain": [
       "array([nan, '0', '2 lac'], dtype=object)"
      ]
     },
     "execution_count": 17,
     "metadata": {},
     "output_type": "execute_result"
    }
   ],
   "source": [
    "df['Balance_in_existing_bank_account_(lower_limit_of_bucket)'].unique()"
   ]
  },
  {
   "cell_type": "code",
   "execution_count": 18,
   "metadata": {},
   "outputs": [
    {
     "data": {
      "text/plain": [
       "array(['0', '2 lac', nan], dtype=object)"
      ]
     },
     "execution_count": 18,
     "metadata": {},
     "output_type": "execute_result"
    }
   ],
   "source": [
    "df['Balance_in_existing_bank_account_(upper_limit_of_bucket)'].unique()\n"
   ]
  },
  {
   "cell_type": "markdown",
   "metadata": {},
   "source": [
    "For both the columns making an assumption and converting nan to 0 balance, also for 2 lac converting it into float since it is a figure"
   ]
  },
  {
   "cell_type": "markdown",
   "metadata": {},
   "source": [
    "#### For lower limit"
   ]
  },
  {
   "cell_type": "code",
   "execution_count": 19,
   "metadata": {},
   "outputs": [
    {
     "data": {
      "text/plain": [
       "array([     0, 200000], dtype=int64)"
      ]
     },
     "execution_count": 19,
     "metadata": {},
     "output_type": "execute_result"
    }
   ],
   "source": [
    "df['Balance_in_existing_bank_account_(lower_limit_of_bucket)'] = df[\"Balance_in_existing_bank_account_(lower_limit_of_bucket)\"].astype(str).apply(lambda x: x.replace('nan','0'))\n",
    "df['Balance_in_existing_bank_account_(lower_limit_of_bucket)'] = df[\"Balance_in_existing_bank_account_(lower_limit_of_bucket)\"].astype(str).apply(lambda x: x.replace('2 lac','200000'))\n",
    "df['Balance_in_existing_bank_account_(lower_limit_of_bucket)']=df['Balance_in_existing_bank_account_(lower_limit_of_bucket)'].astype('int64')\n",
    "df['Balance_in_existing_bank_account_(lower_limit_of_bucket)'].unique()\n"
   ]
  },
  {
   "cell_type": "markdown",
   "metadata": {},
   "source": [
    "#### For upper limit"
   ]
  },
  {
   "cell_type": "code",
   "execution_count": 20,
   "metadata": {},
   "outputs": [
    {
     "data": {
      "text/plain": [
       "array([     0, 200000], dtype=int64)"
      ]
     },
     "execution_count": 20,
     "metadata": {},
     "output_type": "execute_result"
    }
   ],
   "source": [
    "df['Balance_in_existing_bank_account_(upper_limit_of_bucket)'] = df[\"Balance_in_existing_bank_account_(upper_limit_of_bucket)\"].astype(str).apply(lambda x: x.replace('nan','0'))\n",
    "df['Balance_in_existing_bank_account_(upper_limit_of_bucket)'] = df[\"Balance_in_existing_bank_account_(upper_limit_of_bucket)\"].astype(str).apply(lambda x: x.replace('2 lac','200000'))\n",
    "df['Balance_in_existing_bank_account_(upper_limit_of_bucket)']=df['Balance_in_existing_bank_account_(upper_limit_of_bucket)'].astype('int64')\n",
    "df['Balance_in_existing_bank_account_(upper_limit_of_bucket)'].unique()\n"
   ]
  },
  {
   "cell_type": "markdown",
   "metadata": {},
   "source": [
    "### 2. Savings account balance"
   ]
  },
  {
   "cell_type": "code",
   "execution_count": 21,
   "metadata": {},
   "outputs": [
    {
     "data": {
      "text/plain": [
       "array(['Not known', 'Low', 'High', 'Very high', 'Medium'], dtype=object)"
      ]
     },
     "execution_count": 21,
     "metadata": {},
     "output_type": "execute_result"
    }
   ],
   "source": [
    "df['Savings_account_balance'].unique()\n",
    "df['Savings_account_balance'] = df[\"Savings_account_balance\"].astype(str).apply(lambda x: x.replace('nan','Not known'))\n",
    "df['Savings_account_balance'].unique()"
   ]
  },
  {
   "cell_type": "code",
   "execution_count": 22,
   "metadata": {},
   "outputs": [],
   "source": [
    "df.rename(columns = {'Savings_account_balance':'SA_balance_type'}, inplace = True)\n"
   ]
  },
  {
   "cell_type": "markdown",
   "metadata": {},
   "source": [
    "### 3. Telephone\n"
   ]
  },
  {
   "cell_type": "code",
   "execution_count": 23,
   "metadata": {},
   "outputs": [
    {
     "data": {
      "text/plain": [
       "array(['Registered', 'Not Registered'], dtype=object)"
      ]
     },
     "execution_count": 23,
     "metadata": {},
     "output_type": "execute_result"
    }
   ],
   "source": [
    "df['Telephone'].unique()\n",
    "df['Telephone'] = df['Telephone'].astype(str).apply(lambda x: x.replace('nan','Not Registered'))\n",
    "df['Telephone'] = df['Telephone'].astype(str).apply(lambda x: x.replace(\"Registered under the applicant's name\",\"Registered\"))\n",
    "df['Telephone'].unique()"
   ]
  },
  {
   "cell_type": "markdown",
   "metadata": {},
   "source": [
    "### 4. Has_been_employed_for_at_least & at_most"
   ]
  },
  {
   "cell_type": "code",
   "execution_count": 24,
   "metadata": {},
   "outputs": [
    {
     "data": {
      "text/plain": [
       "array(['7 years', '1 year', '4 years', nan, '0 year'], dtype=object)"
      ]
     },
     "execution_count": 24,
     "metadata": {},
     "output_type": "execute_result"
    }
   ],
   "source": [
    "df['Has_been_employed_for_at_least'].unique()"
   ]
  },
  {
   "cell_type": "markdown",
   "metadata": {},
   "source": [
    "* Need to remove the space and just mention figures (like 1,2,7,0)\n",
    "* Asssumping nan under 0 years"
   ]
  },
  {
   "cell_type": "code",
   "execution_count": 25,
   "metadata": {},
   "outputs": [],
   "source": [
    "def space(x):\n",
    "    return x.split(' ')[0]"
   ]
  },
  {
   "cell_type": "code",
   "execution_count": 26,
   "metadata": {},
   "outputs": [
    {
     "data": {
      "text/plain": [
       "array(['7', '1', '4', '0'], dtype=object)"
      ]
     },
     "execution_count": 26,
     "metadata": {},
     "output_type": "execute_result"
    }
   ],
   "source": [
    "df.rename(columns = {'Has_been_employed_for_at_least':'Employed_for_at_least_years'}, inplace = True)\n",
    "df['Employed_for_at_least_years']=df['Employed_for_at_least_years'].astype(str).apply(space)\n",
    "df['Employed_for_at_least_years'] = df['Employed_for_at_least_years'].astype(str).apply(lambda x: x.replace('nan','0'))\n",
    "df['Employed_for_at_least_years'].unique()\n"
   ]
  },
  {
   "cell_type": "code",
   "execution_count": 27,
   "metadata": {},
   "outputs": [
    {
     "data": {
      "text/plain": [
       "array(['0', '4', '7', '1'], dtype=object)"
      ]
     },
     "execution_count": 27,
     "metadata": {},
     "output_type": "execute_result"
    }
   ],
   "source": [
    "df.rename(columns = {'Has_been_employed_for_at_most':'Employed_for_at_most_years'}, inplace = True)\n",
    "df['Employed_for_at_most_years']=df['Employed_for_at_most_years'].astype(str).apply(space)\n",
    "df['Employed_for_at_most_years'] = df['Employed_for_at_most_years'].astype(str).apply(lambda x: x.replace('nan','0'))\n",
    "df['Employed_for_at_most_years'].unique()\n",
    "\n",
    "\n",
    "df['Employed_for_at_most_years'].unique()"
   ]
  },
  {
   "cell_type": "markdown",
   "metadata": {},
   "source": [
    "### 5. Property"
   ]
  },
  {
   "cell_type": "code",
   "execution_count": 28,
   "metadata": {},
   "outputs": [],
   "source": [
    "df['Property']= df['Property'].astype(str).apply(lambda x: x.replace('nan','Nothing'))"
   ]
  },
  {
   "cell_type": "code",
   "execution_count": 29,
   "metadata": {},
   "outputs": [
    {
     "data": {
      "text/plain": [
       "array(['real estate', 'building society savings agreement/life insurance',\n",
       "       'Nothing', 'car or other'], dtype=object)"
      ]
     },
     "execution_count": 29,
     "metadata": {},
     "output_type": "execute_result"
    }
   ],
   "source": [
    "df['Property'].unique()"
   ]
  },
  {
   "cell_type": "markdown",
   "metadata": {},
   "source": [
    "### 6. Purpose"
   ]
  },
  {
   "cell_type": "code",
   "execution_count": 30,
   "metadata": {},
   "outputs": [
    {
     "data": {
      "text/plain": [
       "12"
      ]
     },
     "execution_count": 30,
     "metadata": {},
     "output_type": "execute_result"
    }
   ],
   "source": [
    "df['Purpose'].isnull().sum()"
   ]
  },
  {
   "cell_type": "markdown",
   "metadata": {},
   "source": [
    "Since, they are just 12 values we can negate it as purpose can't be assumed "
   ]
  },
  {
   "cell_type": "code",
   "execution_count": 31,
   "metadata": {},
   "outputs": [],
   "source": [
    "df=df.dropna(subset = ['Purpose'])"
   ]
  },
  {
   "cell_type": "code",
   "execution_count": 32,
   "metadata": {},
   "outputs": [
    {
     "data": {
      "text/plain": [
       "(988, 27)"
      ]
     },
     "execution_count": 32,
     "metadata": {},
     "output_type": "execute_result"
    }
   ],
   "source": [
    "df.shape"
   ]
  },
  {
   "cell_type": "markdown",
   "metadata": {},
   "source": [
    "1000-12: 988, Our calculated value matches with the shape of the dataframe"
   ]
  },
  {
   "cell_type": "markdown",
   "metadata": {},
   "source": [
    "### 8. Dropping Other EMI plans since it has almost 81% missing values"
   ]
  },
  {
   "cell_type": "code",
   "execution_count": 33,
   "metadata": {},
   "outputs": [],
   "source": [
    "df=df.drop(['Other_EMI_plans'], axis=1)"
   ]
  },
  {
   "cell_type": "markdown",
   "metadata": {},
   "source": [
    "### Overview"
   ]
  },
  {
   "cell_type": "code",
   "execution_count": 34,
   "metadata": {},
   "outputs": [
    {
     "data": {
      "text/plain": [
       "applicant_id                                                0\n",
       "Primary_applicant_age_in_years                              0\n",
       "Gender                                                      0\n",
       "Marital_status                                              0\n",
       "Number_of_dependents                                        0\n",
       "Housing                                                     0\n",
       "Years_at_current_residence                                  0\n",
       "Employment_status                                           0\n",
       "Employed_for_at_least_years                                 0\n",
       "Employed_for_at_most_years                                  0\n",
       "Telephone                                                   0\n",
       "Foreign_worker                                              0\n",
       "SA_balance_type                                             0\n",
       "Balance_in_existing_bank_account_(lower_limit_of_bucket)    0\n",
       "Balance_in_existing_bank_account_(upper_limit_of_bucket)    0\n",
       "loan_application_id                                         0\n",
       "Months_loan_taken_for                                       0\n",
       "Purpose                                                     0\n",
       "Principal_loan_amount                                       0\n",
       "EMI_rate_in_percentage_of_disposable_income                 0\n",
       "Property                                                    0\n",
       "Has_coapplicant                                             0\n",
       "Has_guarantor                                               0\n",
       "Number_of_existing_loans_at_this_bank                       0\n",
       "Loan_history                                                0\n",
       "high_risk_applicant                                         0\n",
       "dtype: int64"
      ]
     },
     "execution_count": 34,
     "metadata": {},
     "output_type": "execute_result"
    }
   ],
   "source": [
    "df.isnull().sum()"
   ]
  },
  {
   "cell_type": "code",
   "execution_count": 35,
   "metadata": {},
   "outputs": [
    {
     "data": {
      "text/plain": [
       "(988, 26)"
      ]
     },
     "execution_count": 35,
     "metadata": {},
     "output_type": "execute_result"
    }
   ],
   "source": [
    "df.shape"
   ]
  },
  {
   "cell_type": "code",
   "execution_count": 36,
   "metadata": {},
   "outputs": [],
   "source": [
    "df1=df.copy() # keeping dataframe just for backup purpose"
   ]
  },
  {
   "cell_type": "code",
   "execution_count": 37,
   "metadata": {},
   "outputs": [],
   "source": [
    "# df=df1.copy()"
   ]
  },
  {
   "cell_type": "markdown",
   "metadata": {},
   "source": [
    "### 9. Change dtype"
   ]
  },
  {
   "cell_type": "markdown",
   "metadata": {},
   "source": [
    "obj -> int\n",
    "* Employed_for_at_least_years \n",
    "* Employed_for_at_most_years \n",
    "\n",
    "int ->obj (1:Yes & 0:No)\n",
    "* foreign worker \n",
    "* Has_guarantor \n",
    "* Has_coapplicant\n",
    "* high risk applicant"
   ]
  },
  {
   "cell_type": "code",
   "execution_count": 38,
   "metadata": {},
   "outputs": [
    {
     "data": {
      "text/plain": [
       "0      1\n",
       "1      1\n",
       "2      1\n",
       "3      1\n",
       "4      1\n",
       "      ..\n",
       "995    1\n",
       "996    1\n",
       "997    1\n",
       "998    1\n",
       "999    1\n",
       "Name: Foreign_worker, Length: 988, dtype: int64"
      ]
     },
     "execution_count": 38,
     "metadata": {},
     "output_type": "execute_result"
    }
   ],
   "source": [
    "df['Foreign_worker']"
   ]
  },
  {
   "cell_type": "code",
   "execution_count": 39,
   "metadata": {},
   "outputs": [],
   "source": [
    "df['Employed_for_at_least_years']=df['Employed_for_at_least_years'].astype('int64')\n",
    "df['Employed_for_at_most_years']=df['Employed_for_at_most_years'].astype('int64')\n"
   ]
  },
  {
   "cell_type": "code",
   "execution_count": 40,
   "metadata": {},
   "outputs": [],
   "source": [
    "df['Foreign_worker']=df['Foreign_worker'].map({1:'yes' ,0:'no'})\n",
    "df['Has_guarantor']=df['Has_guarantor'].map({1:'yes' ,0:'no'})\n",
    "df['Has_coapplicant']=df['Has_coapplicant'].map({1:'yes' ,0:'no'})\n",
    "df['high_risk_applicant']=df['high_risk_applicant'].map({1:'yes' ,0:'no'})"
   ]
  },
  {
   "cell_type": "code",
   "execution_count": 41,
   "metadata": {},
   "outputs": [
    {
     "data": {
      "text/plain": [
       "array(['yes', 'no'], dtype=object)"
      ]
     },
     "execution_count": 41,
     "metadata": {},
     "output_type": "execute_result"
    }
   ],
   "source": [
    "df['Foreign_worker'].unique()"
   ]
  },
  {
   "cell_type": "code",
   "execution_count": 42,
   "metadata": {},
   "outputs": [
    {
     "name": "stdout",
     "output_type": "stream",
     "text": [
      "<class 'pandas.core.frame.DataFrame'>\n",
      "Int64Index: 988 entries, 0 to 999\n",
      "Data columns (total 26 columns):\n",
      " #   Column                                                    Non-Null Count  Dtype \n",
      "---  ------                                                    --------------  ----- \n",
      " 0   applicant_id                                              988 non-null    int64 \n",
      " 1   Primary_applicant_age_in_years                            988 non-null    int64 \n",
      " 2   Gender                                                    988 non-null    object\n",
      " 3   Marital_status                                            988 non-null    object\n",
      " 4   Number_of_dependents                                      988 non-null    int64 \n",
      " 5   Housing                                                   988 non-null    object\n",
      " 6   Years_at_current_residence                                988 non-null    int64 \n",
      " 7   Employment_status                                         988 non-null    object\n",
      " 8   Employed_for_at_least_years                               988 non-null    int64 \n",
      " 9   Employed_for_at_most_years                                988 non-null    int64 \n",
      " 10  Telephone                                                 988 non-null    object\n",
      " 11  Foreign_worker                                            988 non-null    object\n",
      " 12  SA_balance_type                                           988 non-null    object\n",
      " 13  Balance_in_existing_bank_account_(lower_limit_of_bucket)  988 non-null    int64 \n",
      " 14  Balance_in_existing_bank_account_(upper_limit_of_bucket)  988 non-null    int64 \n",
      " 15  loan_application_id                                       988 non-null    object\n",
      " 16  Months_loan_taken_for                                     988 non-null    int64 \n",
      " 17  Purpose                                                   988 non-null    object\n",
      " 18  Principal_loan_amount                                     988 non-null    int64 \n",
      " 19  EMI_rate_in_percentage_of_disposable_income               988 non-null    int64 \n",
      " 20  Property                                                  988 non-null    object\n",
      " 21  Has_coapplicant                                           988 non-null    object\n",
      " 22  Has_guarantor                                             988 non-null    object\n",
      " 23  Number_of_existing_loans_at_this_bank                     988 non-null    int64 \n",
      " 24  Loan_history                                              988 non-null    object\n",
      " 25  high_risk_applicant                                       988 non-null    object\n",
      "dtypes: int64(12), object(14)\n",
      "memory usage: 208.4+ KB\n"
     ]
    }
   ],
   "source": [
    "df.info()"
   ]
  },
  {
   "cell_type": "markdown",
   "metadata": {},
   "source": [
    "### 10. Dropping unnnecessary columns "
   ]
  },
  {
   "cell_type": "markdown",
   "metadata": {},
   "source": [
    "* 'Telephone','applicant_id', 'loan_application_id': None of the id would make an sense in performing EDA"
   ]
  },
  {
   "cell_type": "code",
   "execution_count": 43,
   "metadata": {},
   "outputs": [],
   "source": [
    "df_new=df.drop(['Telephone','applicant_id', 'loan_application_id'], axis=1)"
   ]
  },
  {
   "cell_type": "code",
   "execution_count": 44,
   "metadata": {},
   "outputs": [
    {
     "data": {
      "text/plain": [
       "(988, 23)"
      ]
     },
     "execution_count": 44,
     "metadata": {},
     "output_type": "execute_result"
    }
   ],
   "source": [
    "df_new.shape"
   ]
  },
  {
   "cell_type": "code",
   "execution_count": 45,
   "metadata": {},
   "outputs": [
    {
     "data": {
      "text/html": [
       "<div>\n",
       "<style scoped>\n",
       "    .dataframe tbody tr th:only-of-type {\n",
       "        vertical-align: middle;\n",
       "    }\n",
       "\n",
       "    .dataframe tbody tr th {\n",
       "        vertical-align: top;\n",
       "    }\n",
       "\n",
       "    .dataframe thead th {\n",
       "        text-align: right;\n",
       "    }\n",
       "</style>\n",
       "<table border=\"1\" class=\"dataframe\">\n",
       "  <thead>\n",
       "    <tr style=\"text-align: right;\">\n",
       "      <th></th>\n",
       "      <th>Primary_applicant_age_in_years</th>\n",
       "      <th>Gender</th>\n",
       "      <th>Marital_status</th>\n",
       "      <th>Number_of_dependents</th>\n",
       "      <th>Housing</th>\n",
       "      <th>Years_at_current_residence</th>\n",
       "      <th>Employment_status</th>\n",
       "      <th>Employed_for_at_least_years</th>\n",
       "      <th>Employed_for_at_most_years</th>\n",
       "      <th>Foreign_worker</th>\n",
       "      <th>SA_balance_type</th>\n",
       "      <th>Balance_in_existing_bank_account_(lower_limit_of_bucket)</th>\n",
       "      <th>Balance_in_existing_bank_account_(upper_limit_of_bucket)</th>\n",
       "      <th>Months_loan_taken_for</th>\n",
       "      <th>Purpose</th>\n",
       "      <th>Principal_loan_amount</th>\n",
       "      <th>EMI_rate_in_percentage_of_disposable_income</th>\n",
       "      <th>Property</th>\n",
       "      <th>Has_coapplicant</th>\n",
       "      <th>Has_guarantor</th>\n",
       "      <th>Number_of_existing_loans_at_this_bank</th>\n",
       "      <th>Loan_history</th>\n",
       "      <th>high_risk_applicant</th>\n",
       "    </tr>\n",
       "  </thead>\n",
       "  <tbody>\n",
       "    <tr>\n",
       "      <th>0</th>\n",
       "      <td>67</td>\n",
       "      <td>male</td>\n",
       "      <td>single</td>\n",
       "      <td>1</td>\n",
       "      <td>own</td>\n",
       "      <td>4</td>\n",
       "      <td>skilled employee / official</td>\n",
       "      <td>7</td>\n",
       "      <td>0</td>\n",
       "      <td>yes</td>\n",
       "      <td>Not known</td>\n",
       "      <td>0</td>\n",
       "      <td>0</td>\n",
       "      <td>6</td>\n",
       "      <td>electronic equipment</td>\n",
       "      <td>1169000</td>\n",
       "      <td>4</td>\n",
       "      <td>real estate</td>\n",
       "      <td>no</td>\n",
       "      <td>no</td>\n",
       "      <td>2</td>\n",
       "      <td>critical/pending loans at other banks</td>\n",
       "      <td>no</td>\n",
       "    </tr>\n",
       "    <tr>\n",
       "      <th>1</th>\n",
       "      <td>22</td>\n",
       "      <td>female</td>\n",
       "      <td>divorced/separated/married</td>\n",
       "      <td>1</td>\n",
       "      <td>own</td>\n",
       "      <td>2</td>\n",
       "      <td>skilled employee / official</td>\n",
       "      <td>1</td>\n",
       "      <td>4</td>\n",
       "      <td>yes</td>\n",
       "      <td>Low</td>\n",
       "      <td>0</td>\n",
       "      <td>200000</td>\n",
       "      <td>48</td>\n",
       "      <td>electronic equipment</td>\n",
       "      <td>5951000</td>\n",
       "      <td>2</td>\n",
       "      <td>real estate</td>\n",
       "      <td>no</td>\n",
       "      <td>no</td>\n",
       "      <td>1</td>\n",
       "      <td>existing loans paid back duly till now</td>\n",
       "      <td>yes</td>\n",
       "    </tr>\n",
       "    <tr>\n",
       "      <th>2</th>\n",
       "      <td>49</td>\n",
       "      <td>male</td>\n",
       "      <td>single</td>\n",
       "      <td>2</td>\n",
       "      <td>own</td>\n",
       "      <td>3</td>\n",
       "      <td>unskilled - resident</td>\n",
       "      <td>4</td>\n",
       "      <td>7</td>\n",
       "      <td>yes</td>\n",
       "      <td>Low</td>\n",
       "      <td>0</td>\n",
       "      <td>0</td>\n",
       "      <td>12</td>\n",
       "      <td>education</td>\n",
       "      <td>2096000</td>\n",
       "      <td>2</td>\n",
       "      <td>real estate</td>\n",
       "      <td>no</td>\n",
       "      <td>no</td>\n",
       "      <td>1</td>\n",
       "      <td>critical/pending loans at other banks</td>\n",
       "      <td>no</td>\n",
       "    </tr>\n",
       "    <tr>\n",
       "      <th>3</th>\n",
       "      <td>45</td>\n",
       "      <td>male</td>\n",
       "      <td>single</td>\n",
       "      <td>2</td>\n",
       "      <td>for free</td>\n",
       "      <td>4</td>\n",
       "      <td>skilled employee / official</td>\n",
       "      <td>4</td>\n",
       "      <td>7</td>\n",
       "      <td>yes</td>\n",
       "      <td>Low</td>\n",
       "      <td>0</td>\n",
       "      <td>0</td>\n",
       "      <td>42</td>\n",
       "      <td>FF&amp;E</td>\n",
       "      <td>7882000</td>\n",
       "      <td>2</td>\n",
       "      <td>building society savings agreement/life insurance</td>\n",
       "      <td>no</td>\n",
       "      <td>yes</td>\n",
       "      <td>1</td>\n",
       "      <td>existing loans paid back duly till now</td>\n",
       "      <td>no</td>\n",
       "    </tr>\n",
       "    <tr>\n",
       "      <th>4</th>\n",
       "      <td>53</td>\n",
       "      <td>male</td>\n",
       "      <td>single</td>\n",
       "      <td>2</td>\n",
       "      <td>for free</td>\n",
       "      <td>4</td>\n",
       "      <td>skilled employee / official</td>\n",
       "      <td>1</td>\n",
       "      <td>4</td>\n",
       "      <td>yes</td>\n",
       "      <td>Low</td>\n",
       "      <td>0</td>\n",
       "      <td>0</td>\n",
       "      <td>24</td>\n",
       "      <td>new vehicle</td>\n",
       "      <td>4870000</td>\n",
       "      <td>3</td>\n",
       "      <td>Nothing</td>\n",
       "      <td>no</td>\n",
       "      <td>no</td>\n",
       "      <td>2</td>\n",
       "      <td>delay in paying off loans in the past</td>\n",
       "      <td>yes</td>\n",
       "    </tr>\n",
       "  </tbody>\n",
       "</table>\n",
       "</div>"
      ],
      "text/plain": [
       "   Primary_applicant_age_in_years  Gender              Marital_status  \\\n",
       "0                              67    male                      single   \n",
       "1                              22  female  divorced/separated/married   \n",
       "2                              49    male                      single   \n",
       "3                              45    male                      single   \n",
       "4                              53    male                      single   \n",
       "\n",
       "   Number_of_dependents   Housing  Years_at_current_residence  \\\n",
       "0                     1       own                           4   \n",
       "1                     1       own                           2   \n",
       "2                     2       own                           3   \n",
       "3                     2  for free                           4   \n",
       "4                     2  for free                           4   \n",
       "\n",
       "             Employment_status  Employed_for_at_least_years  \\\n",
       "0  skilled employee / official                            7   \n",
       "1  skilled employee / official                            1   \n",
       "2         unskilled - resident                            4   \n",
       "3  skilled employee / official                            4   \n",
       "4  skilled employee / official                            1   \n",
       "\n",
       "   Employed_for_at_most_years Foreign_worker SA_balance_type  \\\n",
       "0                           0            yes       Not known   \n",
       "1                           4            yes             Low   \n",
       "2                           7            yes             Low   \n",
       "3                           7            yes             Low   \n",
       "4                           4            yes             Low   \n",
       "\n",
       "   Balance_in_existing_bank_account_(lower_limit_of_bucket)  \\\n",
       "0                                                  0          \n",
       "1                                                  0          \n",
       "2                                                  0          \n",
       "3                                                  0          \n",
       "4                                                  0          \n",
       "\n",
       "   Balance_in_existing_bank_account_(upper_limit_of_bucket)  \\\n",
       "0                                                  0          \n",
       "1                                             200000          \n",
       "2                                                  0          \n",
       "3                                                  0          \n",
       "4                                                  0          \n",
       "\n",
       "   Months_loan_taken_for               Purpose  Principal_loan_amount  \\\n",
       "0                      6  electronic equipment                1169000   \n",
       "1                     48  electronic equipment                5951000   \n",
       "2                     12             education                2096000   \n",
       "3                     42                  FF&E                7882000   \n",
       "4                     24           new vehicle                4870000   \n",
       "\n",
       "   EMI_rate_in_percentage_of_disposable_income  \\\n",
       "0                                            4   \n",
       "1                                            2   \n",
       "2                                            2   \n",
       "3                                            2   \n",
       "4                                            3   \n",
       "\n",
       "                                            Property Has_coapplicant  \\\n",
       "0                                        real estate              no   \n",
       "1                                        real estate              no   \n",
       "2                                        real estate              no   \n",
       "3  building society savings agreement/life insurance              no   \n",
       "4                                            Nothing              no   \n",
       "\n",
       "  Has_guarantor  Number_of_existing_loans_at_this_bank  \\\n",
       "0            no                                      2   \n",
       "1            no                                      1   \n",
       "2            no                                      1   \n",
       "3           yes                                      1   \n",
       "4            no                                      2   \n",
       "\n",
       "                             Loan_history high_risk_applicant  \n",
       "0   critical/pending loans at other banks                  no  \n",
       "1  existing loans paid back duly till now                 yes  \n",
       "2   critical/pending loans at other banks                  no  \n",
       "3  existing loans paid back duly till now                  no  \n",
       "4   delay in paying off loans in the past                 yes  "
      ]
     },
     "execution_count": 45,
     "metadata": {},
     "output_type": "execute_result"
    }
   ],
   "source": [
    "df_new.head(5)"
   ]
  },
  {
   "cell_type": "markdown",
   "metadata": {},
   "source": [
    "### 11. Principal loan amount"
   ]
  },
  {
   "cell_type": "code",
   "execution_count": 46,
   "metadata": {},
   "outputs": [
    {
     "data": {
      "text/plain": [
       "<AxesSubplot:xlabel='Principal_loan_amount'>"
      ]
     },
     "execution_count": 46,
     "metadata": {},
     "output_type": "execute_result"
    },
    {
     "data": {
      "image/png": "[encoded data removed]",
      "text/plain": [
       "<Figure size 432x288 with 1 Axes>"
      ]
     },
     "metadata": {
      "needs_background": "light"
     },
     "output_type": "display_data"
    }
   ],
   "source": [
    "sns.boxplot(x=\"Principal_loan_amount\", data=df_new)"
   ]
  },
  {
   "cell_type": "markdown",
   "metadata": {},
   "source": [
    "There are outliers so"
   ]
  },
  {
   "cell_type": "code",
   "execution_count": 47,
   "metadata": {},
   "outputs": [],
   "source": [
    "Q1 = df_new['Principal_loan_amount'].quantile(0.25)\n",
    "Q3 = df_new['Principal_loan_amount'].quantile(0.75)\n",
    "IQR = Q3 - Q1"
   ]
  },
  {
   "cell_type": "code",
   "execution_count": 48,
   "metadata": {},
   "outputs": [
    {
     "name": "stdout",
     "output_type": "stream",
     "text": [
      "low_limit is -2517250.0\n",
      "up_limit is 7832750.0\n"
     ]
    }
   ],
   "source": [
    "low_lim = Q1 - 1.5 * IQR\n",
    "up_lim = Q3 + 1.5 * IQR\n",
    "print('low_limit is', low_lim)\n",
    "print('up_limit is', up_lim)"
   ]
  },
  {
   "cell_type": "code",
   "execution_count": 49,
   "metadata": {},
   "outputs": [],
   "source": [
    "df_new=df_new.loc[(df_new['Principal_loan_amount'] > low_lim) & (df_new['Principal_loan_amount'] < up_lim)]"
   ]
  },
  {
   "cell_type": "code",
   "execution_count": 50,
   "metadata": {},
   "outputs": [
    {
     "data": {
      "text/plain": [
       "(918, 23)"
      ]
     },
     "execution_count": 50,
     "metadata": {},
     "output_type": "execute_result"
    }
   ],
   "source": [
    "df_new.shape"
   ]
  },
  {
   "cell_type": "markdown",
   "metadata": {},
   "source": [
    "0.07% is outlier, hence we can remove it"
   ]
  },
  {
   "cell_type": "markdown",
   "metadata": {},
   "source": [
    "# EDA"
   ]
  },
  {
   "cell_type": "markdown",
   "metadata": {},
   "source": [
    "## Categorical and numerical columns"
   ]
  },
  {
   "cell_type": "code",
   "execution_count": 51,
   "metadata": {},
   "outputs": [
    {
     "name": "stdout",
     "output_type": "stream",
     "text": [
      "(918, 11)\n",
      "Gender               918\n",
      "Marital_status       918\n",
      "Housing              918\n",
      "Employment_status    918\n",
      "Foreign_worker       918\n",
      "SA_balance_type      918\n",
      "Purpose              918\n",
      "Property             918\n",
      "Has_coapplicant      918\n",
      "Has_guarantor        918\n",
      "Loan_history         918\n",
      "dtype: int64\n"
     ]
    }
   ],
   "source": [
    "\n",
    "categorical_columns = df_new.select_dtypes(include=['object'])\n",
    "categorical_columns=categorical_columns.drop(['high_risk_applicant'], axis=1)\n",
    "print(categorical_columns.shape)\n",
    "print(categorical_columns.count())\n",
    "cat_col=categorical_columns.columns\n"
   ]
  },
  {
   "cell_type": "code",
   "execution_count": 52,
   "metadata": {},
   "outputs": [
    {
     "data": {
      "text/plain": [
       "Index(['Gender', 'Marital_status', 'Housing', 'Employment_status',\n",
       "       'Foreign_worker', 'SA_balance_type', 'Purpose', 'Property',\n",
       "       'Has_coapplicant', 'Has_guarantor', 'Loan_history'],\n",
       "      dtype='object')"
      ]
     },
     "execution_count": 52,
     "metadata": {},
     "output_type": "execute_result"
    }
   ],
   "source": [
    "cat_col"
   ]
  },
  {
   "cell_type": "code",
   "execution_count": 53,
   "metadata": {},
   "outputs": [
    {
     "name": "stdout",
     "output_type": "stream",
     "text": [
      "(918, 11)\n",
      "Primary_applicant_age_in_years                              918\n",
      "Number_of_dependents                                        918\n",
      "Years_at_current_residence                                  918\n",
      "Employed_for_at_least_years                                 918\n",
      "Employed_for_at_most_years                                  918\n",
      "Balance_in_existing_bank_account_(lower_limit_of_bucket)    918\n",
      "Balance_in_existing_bank_account_(upper_limit_of_bucket)    918\n",
      "Months_loan_taken_for                                       918\n",
      "Principal_loan_amount                                       918\n",
      "EMI_rate_in_percentage_of_disposable_income                 918\n",
      "Number_of_existing_loans_at_this_bank                       918\n",
      "dtype: int64\n"
     ]
    }
   ],
   "source": [
    "numerical_columns = df_new.select_dtypes(include=['int64'])\n",
    "print(numerical_columns.shape)\n",
    "print(numerical_columns.count())\n",
    "num_col=numerical_columns.columns"
   ]
  },
  {
   "cell_type": "markdown",
   "metadata": {},
   "source": [
    "## Splitting the data on bases of applicant being high and low risked in order to calculate the percentage of particular entity wrt high/low risk and understanding its importance as a feature"
   ]
  },
  {
   "cell_type": "code",
   "execution_count": 54,
   "metadata": {},
   "outputs": [],
   "source": [
    "# splitting the dataset based on high and low risk applicant\n",
    "df_y=df_new[df_new['high_risk_applicant']=='yes']\n",
    "df_n=df_new[df_new['high_risk_applicant']!='yes']"
   ]
  },
  {
   "cell_type": "code",
   "execution_count": 55,
   "metadata": {},
   "outputs": [],
   "source": [
    "def calculate_percentage_n(column):\n",
    "    # For yes category of high applicant\n",
    "    array_new = dict(df_n[column].value_counts())\n",
    "    sum_v = 0\n",
    "    for i,v in array_new.items():\n",
    "        sum_v = sum_v+v\n",
    "    for i,v in array_new.items():\n",
    "        percent = (v/sum_v)*100\n",
    "        percent=round(percent,2)\n",
    "        print(\"The percentage of \"+str(i)+\" for low risk type in this column is:\"+str(percent)+\" %\")\n",
    "    \n",
    "    # For no category of high applicant\n",
    "    array_new = dict(df_y[column].value_counts())\n",
    "    sum_v = 0\n",
    "    for i,v in array_new.items():\n",
    "        sum_v = sum_v+v\n",
    "    for i,v in array_new.items():\n",
    "        percent = (v/sum_v)*100\n",
    "        percent=round(percent,2)\n",
    "        print(\"The percentage of \"+str(i)+\" for high risk type in this column is:\"+str(percent)+\" %\")  "
   ]
  },
  {
   "cell_type": "markdown",
   "metadata": {},
   "source": [
    "## categorical"
   ]
  },
  {
   "cell_type": "markdown",
   "metadata": {},
   "source": [
    "### Gender "
   ]
  },
  {
   "cell_type": "code",
   "execution_count": 56,
   "metadata": {},
   "outputs": [
    {
     "name": "stdout",
     "output_type": "stream",
     "text": [
      "The percentage of male for low risk type in this column is:70.76 %\n",
      "The percentage of female for low risk type in this column is:29.24 %\n",
      "The percentage of male for high risk type in this column is:62.02 %\n",
      "The percentage of female for high risk type in this column is:37.98 %\n"
     ]
    },
    {
     "data": {
      "image/png": "[encoded data removed]",
      "text/plain": [
       "<Figure size 1440x360 with 1 Axes>"
      ]
     },
     "metadata": {
      "needs_background": "light"
     },
     "output_type": "display_data"
    }
   ],
   "source": [
    "# for i in range(len(cat_col)):\n",
    "plt.figure(figsize=(20,5))\n",
    "sns.countplot(x =cat_col[0], data = df_new)\n",
    "calculate_percentage_n(cat_col[0])\n",
    "\n"
   ]
  },
  {
   "cell_type": "code",
   "execution_count": 57,
   "metadata": {},
   "outputs": [
    {
     "data": {
      "text/plain": [
       "<AxesSubplot:xlabel='Gender', ylabel='count'>"
      ]
     },
     "execution_count": 57,
     "metadata": {},
     "output_type": "execute_result"
    },
    {
     "data": {
      "image/png": "[encoded data removed]",
      "text/plain": [
       "<Figure size 432x288 with 1 Axes>"
      ]
     },
     "metadata": {
      "needs_background": "light"
     },
     "output_type": "display_data"
    }
   ],
   "source": [
    "sns.countplot(x=cat_col[0], hue=\"high_risk_applicant\", data=df_n)\n"
   ]
  },
  {
   "cell_type": "code",
   "execution_count": 58,
   "metadata": {},
   "outputs": [
    {
     "data": {
      "text/plain": [
       "<AxesSubplot:xlabel='Gender', ylabel='count'>"
      ]
     },
     "execution_count": 58,
     "metadata": {},
     "output_type": "execute_result"
    },
    {
     "data": {
      "image/png": "[encoded data removed]",
      "text/plain": [
       "<Figure size 432x288 with 1 Axes>"
      ]
     },
     "metadata": {
      "needs_background": "light"
     },
     "output_type": "display_data"
    }
   ],
   "source": [
    "sns.countplot(x=cat_col[0], hue=\"high_risk_applicant\", data=df_y)"
   ]
  },
  {
   "cell_type": "markdown",
   "metadata": {},
   "source": [
    "Observations:\n",
    "* chances for getting loan for male is easier compared to male\n",
    "* From percentages, chances of female loan to get rejected is comparatively increased\n"
   ]
  },
  {
   "cell_type": "markdown",
   "metadata": {},
   "source": [
    "### Martial status"
   ]
  },
  {
   "cell_type": "code",
   "execution_count": 59,
   "metadata": {},
   "outputs": [
    {
     "name": "stdout",
     "output_type": "stream",
     "text": [
      "The percentage of single for low risk type in this column is:56.36 %\n",
      "The percentage of divorced/separated/married for low risk type in this column is:29.24 %\n",
      "The percentage of married/widowed for low risk type in this column is:10.15 %\n",
      "The percentage of divorced/separated for low risk type in this column is:4.24 %\n",
      "The percentage of single for high risk type in this column is:46.12 %\n",
      "The percentage of divorced/separated/married for high risk type in this column is:37.98 %\n",
      "The percentage of married/widowed for high risk type in this column is:9.3 %\n",
      "The percentage of divorced/separated for high risk type in this column is:6.59 %\n"
     ]
    },
    {
     "data": {
      "image/png": "[encoded data removed]",
      "text/plain": [
       "<Figure size 1440x360 with 1 Axes>"
      ]
     },
     "metadata": {
      "needs_background": "light"
     },
     "output_type": "display_data"
    }
   ],
   "source": [
    "# for i in range(len(cat_col)):\n",
    "plt.figure(figsize=(20,5))\n",
    "sns.countplot(x =cat_col[1], data = df_new)\n",
    "calculate_percentage_n(cat_col[1])\n"
   ]
  },
  {
   "cell_type": "code",
   "execution_count": 60,
   "metadata": {},
   "outputs": [
    {
     "data": {
      "text/plain": [
       "<AxesSubplot:xlabel='Marital_status', ylabel='count'>"
      ]
     },
     "execution_count": 60,
     "metadata": {},
     "output_type": "execute_result"
    },
    {
     "data": {
      "image/png": "[encoded data removed]",
      "text/plain": [
       "<Figure size 1440x360 with 1 Axes>"
      ]
     },
     "metadata": {
      "needs_background": "light"
     },
     "output_type": "display_data"
    }
   ],
   "source": [
    "plt.figure(figsize=(20,5))\n",
    "sns.countplot(x=cat_col[1], hue=\"high_risk_applicant\", data=df_n)"
   ]
  },
  {
   "cell_type": "code",
   "execution_count": 61,
   "metadata": {},
   "outputs": [
    {
     "data": {
      "text/plain": [
       "<AxesSubplot:xlabel='Marital_status', ylabel='count'>"
      ]
     },
     "execution_count": 61,
     "metadata": {},
     "output_type": "execute_result"
    },
    {
     "data": {
      "image/png": "[encoded data removed]",
      "text/plain": [
       "<Figure size 1440x360 with 1 Axes>"
      ]
     },
     "metadata": {
      "needs_background": "light"
     },
     "output_type": "display_data"
    }
   ],
   "source": [
    "plt.figure(figsize=(20,5))\n",
    "sns.countplot(x=cat_col[1], hue=\"high_risk_applicant\", data=df_y)"
   ]
  },
  {
   "cell_type": "markdown",
   "metadata": {},
   "source": [
    "Observations:\n",
    "* Chances of single status,married/widowed are higher\n",
    "* divorced/separated/married, divorced/separated status are likely to be rejected (comparing percentage)\n"
   ]
  },
  {
   "cell_type": "markdown",
   "metadata": {},
   "source": [
    "### Housing"
   ]
  },
  {
   "cell_type": "code",
   "execution_count": 62,
   "metadata": {},
   "outputs": [
    {
     "name": "stdout",
     "output_type": "stream",
     "text": [
      "The percentage of own for low risk type in this column is:76.06 %\n",
      "The percentage of rent for low risk type in this column is:16.21 %\n",
      "The percentage of for free for low risk type in this column is:7.73 %\n",
      "The percentage of own for high risk type in this column is:63.18 %\n",
      "The percentage of rent for high risk type in this column is:24.42 %\n",
      "The percentage of for free for high risk type in this column is:12.4 %\n"
     ]
    },
    {
     "data": {
      "image/png": "[encoded data removed]",
      "text/plain": [
       "<Figure size 1440x360 with 1 Axes>"
      ]
     },
     "metadata": {
      "needs_background": "light"
     },
     "output_type": "display_data"
    }
   ],
   "source": [
    "# for i in range(len(cat_col)):\n",
    "plt.figure(figsize=(20,5))\n",
    "sns.countplot(x =cat_col[2], data = df_new)\n",
    "calculate_percentage_n(cat_col[2])"
   ]
  },
  {
   "cell_type": "code",
   "execution_count": 63,
   "metadata": {},
   "outputs": [
    {
     "data": {
      "text/plain": [
       "<AxesSubplot:xlabel='Housing', ylabel='count'>"
      ]
     },
     "execution_count": 63,
     "metadata": {},
     "output_type": "execute_result"
    },
    {
     "data": {
      "image/png": "[encoded data removed]",
      "text/plain": [
       "<Figure size 1440x360 with 1 Axes>"
      ]
     },
     "metadata": {
      "needs_background": "light"
     },
     "output_type": "display_data"
    }
   ],
   "source": [
    "plt.figure(figsize=(20,5))\n",
    "sns.countplot(x=cat_col[2], hue=\"high_risk_applicant\", data=df_n)"
   ]
  },
  {
   "cell_type": "code",
   "execution_count": 64,
   "metadata": {},
   "outputs": [
    {
     "data": {
      "text/plain": [
       "<AxesSubplot:xlabel='Housing', ylabel='count'>"
      ]
     },
     "execution_count": 64,
     "metadata": {},
     "output_type": "execute_result"
    },
    {
     "data": {
      "image/png": "[encoded data removed]",
      "text/plain": [
       "<Figure size 1440x360 with 1 Axes>"
      ]
     },
     "metadata": {
      "needs_background": "light"
     },
     "output_type": "display_data"
    }
   ],
   "source": [
    "plt.figure(figsize=(20,5))\n",
    "sns.countplot(x=cat_col[2], hue=\"high_risk_applicant\", data=df_y)"
   ]
  },
  {
   "cell_type": "markdown",
   "metadata": {},
   "source": [
    "Observations:\n",
    "* Person with own house has higher chance of getting loan\n",
    "* For free housing, rent are at low chance of getting\n"
   ]
  },
  {
   "cell_type": "markdown",
   "metadata": {},
   "source": [
    "### Employment status"
   ]
  },
  {
   "cell_type": "code",
   "execution_count": 65,
   "metadata": {},
   "outputs": [
    {
     "name": "stdout",
     "output_type": "stream",
     "text": [
      "The percentage of skilled employee / official for low risk type in this column is:64.55 %\n",
      "The percentage of unskilled - resident for low risk type in this column is:21.06 %\n",
      "The percentage of management / self-employed / highly qualified employee / officer for low risk type in this column is:12.27 %\n",
      "The percentage of unemployed / unskilled - non-resident for low risk type in this column is:2.12 %\n",
      "The percentage of skilled employee / official for high risk type in this column is:64.73 %\n",
      "The percentage of unskilled - resident for high risk type in this column is:20.93 %\n",
      "The percentage of management / self-employed / highly qualified employee / officer for high risk type in this column is:12.02 %\n",
      "The percentage of unemployed / unskilled - non-resident for high risk type in this column is:2.33 %\n"
     ]
    },
    {
     "data": {
      "image/png": "[encoded data removed]",
      "text/plain": [
       "<Figure size 1440x360 with 1 Axes>"
      ]
     },
     "metadata": {
      "needs_background": "light"
     },
     "output_type": "display_data"
    }
   ],
   "source": [
    "# for i in range(len(cat_col)):\n",
    "plt.figure(figsize=(20,5))\n",
    "sns.countplot(x =cat_col[3], data = df_new)\n",
    "calculate_percentage_n(cat_col[3])"
   ]
  },
  {
   "cell_type": "code",
   "execution_count": 66,
   "metadata": {},
   "outputs": [
    {
     "data": {
      "text/plain": [
       "<AxesSubplot:xlabel='Employment_status', ylabel='count'>"
      ]
     },
     "execution_count": 66,
     "metadata": {},
     "output_type": "execute_result"
    },
    {
     "data": {
      "image/png": "[encoded data removed]",
      "text/plain": [
       "<Figure size 1440x360 with 1 Axes>"
      ]
     },
     "metadata": {
      "needs_background": "light"
     },
     "output_type": "display_data"
    }
   ],
   "source": [
    "plt.figure(figsize=(20,5))\n",
    "sns.countplot(x=cat_col[3], hue=\"high_risk_applicant\", data=df_n)"
   ]
  },
  {
   "cell_type": "code",
   "execution_count": 67,
   "metadata": {},
   "outputs": [
    {
     "data": {
      "text/plain": [
       "<AxesSubplot:xlabel='Employment_status', ylabel='count'>"
      ]
     },
     "execution_count": 67,
     "metadata": {},
     "output_type": "execute_result"
    },
    {
     "data": {
      "image/png": "[encoded data removed]",
      "text/plain": [
       "<Figure size 1440x360 with 1 Axes>"
      ]
     },
     "metadata": {
      "needs_background": "light"
     },
     "output_type": "display_data"
    }
   ],
   "source": [
    "plt.figure(figsize=(20,5))\n",
    "sns.countplot(x=cat_col[3], hue=\"high_risk_applicant\", data=df_y)"
   ]
  },
  {
   "cell_type": "markdown",
   "metadata": {},
   "source": [
    "Observation:\n",
    "* Here there is no major change in percentage for likely hood of person being in high or low risk applicant \n",
    "* Hence, feature should be dropped"
   ]
  },
  {
   "cell_type": "markdown",
   "metadata": {},
   "source": [
    "### Foreign Worker"
   ]
  },
  {
   "cell_type": "code",
   "execution_count": 68,
   "metadata": {},
   "outputs": [
    {
     "name": "stdout",
     "output_type": "stream",
     "text": [
      "The percentage of yes for low risk type in this column is:95.0 %\n",
      "The percentage of no for low risk type in this column is:5.0 %\n",
      "The percentage of yes for high risk type in this column is:99.22 %\n",
      "The percentage of no for high risk type in this column is:0.78 %\n"
     ]
    },
    {
     "data": {
      "image/png": "[encoded data removed]",
      "text/plain": [
       "<Figure size 1440x360 with 1 Axes>"
      ]
     },
     "metadata": {
      "needs_background": "light"
     },
     "output_type": "display_data"
    }
   ],
   "source": [
    "# for i in range(len(cat_col)):\n",
    "plt.figure(figsize=(20,5))\n",
    "sns.countplot(x =cat_col[4], data = df_new)\n",
    "calculate_percentage_n(cat_col[4])"
   ]
  },
  {
   "cell_type": "code",
   "execution_count": 69,
   "metadata": {},
   "outputs": [
    {
     "data": {
      "text/plain": [
       "<AxesSubplot:xlabel='Foreign_worker', ylabel='count'>"
      ]
     },
     "execution_count": 69,
     "metadata": {},
     "output_type": "execute_result"
    },
    {
     "data": {
      "image/png": "[encoded data removed]",
      "text/plain": [
       "<Figure size 1440x360 with 1 Axes>"
      ]
     },
     "metadata": {
      "needs_background": "light"
     },
     "output_type": "display_data"
    }
   ],
   "source": [
    "plt.figure(figsize=(20,5))\n",
    "sns.countplot(x=cat_col[4], hue=\"high_risk_applicant\", data=df_n)"
   ]
  },
  {
   "cell_type": "code",
   "execution_count": 70,
   "metadata": {},
   "outputs": [
    {
     "data": {
      "text/plain": [
       "<AxesSubplot:xlabel='Foreign_worker', ylabel='count'>"
      ]
     },
     "execution_count": 70,
     "metadata": {},
     "output_type": "execute_result"
    },
    {
     "data": {
      "image/png": "[encoded data removed]",
      "text/plain": [
       "<Figure size 1440x360 with 1 Axes>"
      ]
     },
     "metadata": {
      "needs_background": "light"
     },
     "output_type": "display_data"
    }
   ],
   "source": [
    "plt.figure(figsize=(20,5))\n",
    "sns.countplot(x=cat_col[4], hue=\"high_risk_applicant\", data=df_y)"
   ]
  },
  {
   "cell_type": "markdown",
   "metadata": {},
   "source": [
    "Observation:\n",
    "* The person being a foreign worker has higher chance of being rejected when comparing the percentages\n"
   ]
  },
  {
   "cell_type": "markdown",
   "metadata": {},
   "source": [
    "### Savings account balance type"
   ]
  },
  {
   "cell_type": "code",
   "execution_count": 71,
   "metadata": {},
   "outputs": [
    {
     "name": "stdout",
     "output_type": "stream",
     "text": [
      "The percentage of Low for low risk type in this column is:56.21 %\n",
      "The percentage of Not known for low risk type in this column is:20.3 %\n",
      "The percentage of Medium for low risk type in this column is:9.7 %\n",
      "The percentage of High for low risk type in this column is:7.58 %\n",
      "The percentage of Very high for low risk type in this column is:6.21 %\n",
      "The percentage of Low for high risk type in this column is:72.87 %\n",
      "The percentage of Medium for high risk type in this column is:11.24 %\n",
      "The percentage of Not known for high risk type in this column is:10.08 %\n",
      "The percentage of High for high risk type in this column is:3.88 %\n",
      "The percentage of Very high for high risk type in this column is:1.94 %\n"
     ]
    },
    {
     "data": {
      "image/png": "[encoded data removed]",
      "text/plain": [
       "<Figure size 1440x360 with 1 Axes>"
      ]
     },
     "metadata": {
      "needs_background": "light"
     },
     "output_type": "display_data"
    }
   ],
   "source": [
    "# for i in range(len(cat_col)):\n",
    "plt.figure(figsize=(20,5))\n",
    "sns.countplot(x =cat_col[5], data = df_new)\n",
    "calculate_percentage_n(cat_col[5])"
   ]
  },
  {
   "cell_type": "code",
   "execution_count": 72,
   "metadata": {},
   "outputs": [
    {
     "data": {
      "text/plain": [
       "<AxesSubplot:xlabel='SA_balance_type', ylabel='count'>"
      ]
     },
     "execution_count": 72,
     "metadata": {},
     "output_type": "execute_result"
    },
    {
     "data": {
      "image/png": "[encoded data removed]",
      "text/plain": [
       "<Figure size 1440x360 with 1 Axes>"
      ]
     },
     "metadata": {
      "needs_background": "light"
     },
     "output_type": "display_data"
    }
   ],
   "source": [
    "plt.figure(figsize=(20,5))\n",
    "sns.countplot(x=cat_col[5], hue=\"high_risk_applicant\", data=df_n)"
   ]
  },
  {
   "cell_type": "code",
   "execution_count": 73,
   "metadata": {},
   "outputs": [
    {
     "data": {
      "text/plain": [
       "<AxesSubplot:xlabel='SA_balance_type', ylabel='count'>"
      ]
     },
     "execution_count": 73,
     "metadata": {},
     "output_type": "execute_result"
    },
    {
     "data": {
      "image/png": "[encoded data removed]",
      "text/plain": [
       "<Figure size 1440x360 with 1 Axes>"
      ]
     },
     "metadata": {
      "needs_background": "light"
     },
     "output_type": "display_data"
    }
   ],
   "source": [
    "plt.figure(figsize=(20,5))\n",
    "sns.countplot(x=cat_col[5], hue=\"high_risk_applicant\", data=df_y)"
   ]
  },
  {
   "cell_type": "markdown",
   "metadata": {},
   "source": [
    "Observations:\n",
    "* Person with type Low, Medium: higher chances of being high risk applicant comapred to very high and high balance type since high_risk percentages fall drastically for them"
   ]
  },
  {
   "cell_type": "markdown",
   "metadata": {},
   "source": [
    "### Purpose for which loan was taken"
   ]
  },
  {
   "cell_type": "code",
   "execution_count": 74,
   "metadata": {},
   "outputs": [
    {
     "name": "stdout",
     "output_type": "stream",
     "text": [
      "The percentage of electronic equipment for low risk type in this column is:32.12 %\n",
      "The percentage of new vehicle for low risk type in this column is:20.91 %\n",
      "The percentage of FF&E for low risk type in this column is:18.33 %\n",
      "The percentage of used vehicle for low risk type in this column is:11.21 %\n",
      "The percentage of business for low risk type in this column is:9.09 %\n",
      "The percentage of education for low risk type in this column is:3.79 %\n",
      "The percentage of repair costs for low risk type in this column is:2.12 %\n",
      "The percentage of domestic appliances for low risk type in this column is:1.21 %\n",
      "The percentage of career development for low risk type in this column is:1.21 %\n",
      "The percentage of new vehicle for high risk type in this column is:30.23 %\n",
      "The percentage of electronic equipment for high risk type in this column is:23.64 %\n",
      "The percentage of FF&E for high risk type in this column is:20.54 %\n",
      "The percentage of business for high risk type in this column is:10.08 %\n",
      "The percentage of education for high risk type in this column is:7.75 %\n",
      "The percentage of used vehicle for high risk type in this column is:3.1 %\n",
      "The percentage of repair costs for high risk type in this column is:2.71 %\n",
      "The percentage of domestic appliances for high risk type in this column is:1.55 %\n",
      "The percentage of career development for high risk type in this column is:0.39 %\n"
     ]
    },
    {
     "data": {
      "image/png": "[encoded data removed]",
      "text/plain": [
       "<Figure size 1440x360 with 1 Axes>"
      ]
     },
     "metadata": {
      "needs_background": "light"
     },
     "output_type": "display_data"
    }
   ],
   "source": [
    "# for i in range(len(cat_col)):\n",
    "plt.figure(figsize=(20,5))\n",
    "sns.countplot(x =cat_col[6], data = df_new)\n",
    "calculate_percentage_n(cat_col[6])"
   ]
  },
  {
   "cell_type": "code",
   "execution_count": 75,
   "metadata": {},
   "outputs": [
    {
     "data": {
      "text/plain": [
       "<AxesSubplot:xlabel='Purpose', ylabel='count'>"
      ]
     },
     "execution_count": 75,
     "metadata": {},
     "output_type": "execute_result"
    },
    {
     "data": {
      "image/png": "[encoded data removed]",
      "text/plain": [
       "<Figure size 1440x360 with 1 Axes>"
      ]
     },
     "metadata": {
      "needs_background": "light"
     },
     "output_type": "display_data"
    }
   ],
   "source": [
    "plt.figure(figsize=(20,5))\n",
    "sns.countplot(x=cat_col[6], hue=\"high_risk_applicant\", data=df_n)"
   ]
  },
  {
   "cell_type": "code",
   "execution_count": 76,
   "metadata": {},
   "outputs": [
    {
     "data": {
      "text/plain": [
       "<AxesSubplot:xlabel='Purpose', ylabel='count'>"
      ]
     },
     "execution_count": 76,
     "metadata": {},
     "output_type": "execute_result"
    },
    {
     "data": {
      "image/png": "[encoded data removed]",
      "text/plain": [
       "<Figure size 1440x360 with 1 Axes>"
      ]
     },
     "metadata": {
      "needs_background": "light"
     },
     "output_type": "display_data"
    }
   ],
   "source": [
    "plt.figure(figsize=(20,5))\n",
    "sns.countplot(x=cat_col[6], hue=\"high_risk_applicant\", data=df_y)"
   ]
  },
  {
   "cell_type": "markdown",
   "metadata": {},
   "source": [
    "Observations:\n",
    "* Likely to be approved for: electronic-equ.,used vehicle, career development for rest chances of high risk applicant are more"
   ]
  },
  {
   "cell_type": "markdown",
   "metadata": {},
   "source": [
    "### Property"
   ]
  },
  {
   "cell_type": "code",
   "execution_count": 77,
   "metadata": {},
   "outputs": [
    {
     "name": "stdout",
     "output_type": "stream",
     "text": [
      "The percentage of real estate for low risk type in this column is:33.18 %\n",
      "The percentage of car or other for low risk type in this column is:32.27 %\n",
      "The percentage of building society savings agreement/life insurance for low risk type in this column is:23.48 %\n",
      "The percentage of Nothing for low risk type in this column is:11.06 %\n",
      "The percentage of car or other for high risk type in this column is:32.95 %\n",
      "The percentage of building society savings agreement/life insurance for high risk type in this column is:25.58 %\n",
      "The percentage of real estate for high risk type in this column is:22.87 %\n",
      "The percentage of Nothing for high risk type in this column is:18.6 %\n"
     ]
    },
    {
     "data": {
      "image/png": "[encoded data removed]",
      "text/plain": [
       "<Figure size 1440x360 with 1 Axes>"
      ]
     },
     "metadata": {
      "needs_background": "light"
     },
     "output_type": "display_data"
    }
   ],
   "source": [
    "# for i in range(len(cat_col)):\n",
    "plt.figure(figsize=(20,5))\n",
    "sns.countplot(x =cat_col[7], data = df_new)\n",
    "calculate_percentage_n(cat_col[7])"
   ]
  },
  {
   "cell_type": "code",
   "execution_count": 78,
   "metadata": {},
   "outputs": [
    {
     "data": {
      "text/plain": [
       "<AxesSubplot:xlabel='Property', ylabel='count'>"
      ]
     },
     "execution_count": 78,
     "metadata": {},
     "output_type": "execute_result"
    },
    {
     "data": {
      "image/png": "[encoded data removed]",
      "text/plain": [
       "<Figure size 1440x360 with 1 Axes>"
      ]
     },
     "metadata": {
      "needs_background": "light"
     },
     "output_type": "display_data"
    }
   ],
   "source": [
    "plt.figure(figsize=(20,5))\n",
    "sns.countplot(x=cat_col[7], hue=\"high_risk_applicant\", data=df_n)"
   ]
  },
  {
   "cell_type": "code",
   "execution_count": 79,
   "metadata": {},
   "outputs": [
    {
     "data": {
      "text/plain": [
       "<AxesSubplot:xlabel='Property', ylabel='count'>"
      ]
     },
     "execution_count": 79,
     "metadata": {},
     "output_type": "execute_result"
    },
    {
     "data": {
      "image/png": "[encoded data removed]",
      "text/plain": [
       "<Figure size 1440x360 with 1 Axes>"
      ]
     },
     "metadata": {
      "needs_background": "light"
     },
     "output_type": "display_data"
    }
   ],
   "source": [
    "plt.figure(figsize=(20,5))\n",
    "sns.countplot(x=cat_col[7], hue=\"high_risk_applicant\", data=df_y)"
   ]
  },
  {
   "cell_type": "markdown",
   "metadata": {},
   "source": [
    "Observation:\n",
    "* Low risk applicant are one's whose property lies as: real estate\n",
    "* For car, building society savings agreeemnt/life insurance nothing can be predicted equal chaances are there\n",
    "* Nothing has likely hood of high risk applicant"
   ]
  },
  {
   "cell_type": "markdown",
   "metadata": {},
   "source": [
    "### Has coapplicant"
   ]
  },
  {
   "cell_type": "code",
   "execution_count": 80,
   "metadata": {},
   "outputs": [
    {
     "name": "stdout",
     "output_type": "stream",
     "text": [
      "The percentage of no for low risk type in this column is:96.97 %\n",
      "The percentage of yes for low risk type in this column is:3.03 %\n",
      "The percentage of no for high risk type in this column is:94.57 %\n",
      "The percentage of yes for high risk type in this column is:5.43 %\n"
     ]
    },
    {
     "data": {
      "image/png": "[encoded data removed]",
      "text/plain": [
       "<Figure size 1440x360 with 1 Axes>"
      ]
     },
     "metadata": {
      "needs_background": "light"
     },
     "output_type": "display_data"
    }
   ],
   "source": [
    "# for i in range(len(cat_col)):\n",
    "plt.figure(figsize=(20,5))\n",
    "sns.countplot(x =cat_col[8], data = df_new)\n",
    "calculate_percentage_n(cat_col[8])"
   ]
  },
  {
   "cell_type": "code",
   "execution_count": 81,
   "metadata": {},
   "outputs": [
    {
     "data": {
      "text/plain": [
       "<AxesSubplot:xlabel='Has_coapplicant', ylabel='count'>"
      ]
     },
     "execution_count": 81,
     "metadata": {},
     "output_type": "execute_result"
    },
    {
     "data": {
      "image/png": "[encoded data removed]",
      "text/plain": [
       "<Figure size 1440x360 with 1 Axes>"
      ]
     },
     "metadata": {
      "needs_background": "light"
     },
     "output_type": "display_data"
    }
   ],
   "source": [
    "plt.figure(figsize=(20,5))\n",
    "sns.countplot(x=cat_col[8], hue=\"high_risk_applicant\", data=df_n)"
   ]
  },
  {
   "cell_type": "code",
   "execution_count": 82,
   "metadata": {},
   "outputs": [
    {
     "data": {
      "text/plain": [
       "<AxesSubplot:xlabel='Has_coapplicant', ylabel='count'>"
      ]
     },
     "execution_count": 82,
     "metadata": {},
     "output_type": "execute_result"
    },
    {
     "data": {
      "image/png": "[encoded data removed]",
      "text/plain": [
       "<Figure size 1440x360 with 1 Axes>"
      ]
     },
     "metadata": {
      "needs_background": "light"
     },
     "output_type": "display_data"
    }
   ],
   "source": [
    "plt.figure(figsize=(20,5))\n",
    "sns.countplot(x=cat_col[8], hue=\"high_risk_applicant\", data=df_y)"
   ]
  },
  {
   "cell_type": "markdown",
   "metadata": {},
   "source": [
    "Observations:\n",
    "* For coapplicant as no chances are higher of getting classified as low risk applicant compared to has coapplicant"
   ]
  },
  {
   "cell_type": "markdown",
   "metadata": {},
   "source": [
    "### Has_guarantor"
   ]
  },
  {
   "cell_type": "code",
   "execution_count": 83,
   "metadata": {},
   "outputs": [
    {
     "name": "stdout",
     "output_type": "stream",
     "text": [
      "The percentage of no for low risk type in this column is:93.94 %\n",
      "The percentage of yes for low risk type in this column is:6.06 %\n",
      "The percentage of no for high risk type in this column is:96.12 %\n",
      "The percentage of yes for high risk type in this column is:3.88 %\n"
     ]
    },
    {
     "data": {
      "image/png": "[encoded data removed]",
      "text/plain": [
       "<Figure size 1440x360 with 1 Axes>"
      ]
     },
     "metadata": {
      "needs_background": "light"
     },
     "output_type": "display_data"
    }
   ],
   "source": [
    "# for i in range(len(cat_col)):\n",
    "plt.figure(figsize=(20,5))\n",
    "sns.countplot(x =cat_col[9], data = df_new)\n",
    "calculate_percentage_n(cat_col[9])"
   ]
  },
  {
   "cell_type": "code",
   "execution_count": 84,
   "metadata": {},
   "outputs": [
    {
     "data": {
      "text/plain": [
       "<AxesSubplot:xlabel='Has_guarantor', ylabel='count'>"
      ]
     },
     "execution_count": 84,
     "metadata": {},
     "output_type": "execute_result"
    },
    {
     "data": {
      "image/png": "[encoded data removed]",
      "text/plain": [
       "<Figure size 1440x360 with 1 Axes>"
      ]
     },
     "metadata": {
      "needs_background": "light"
     },
     "output_type": "display_data"
    }
   ],
   "source": [
    "plt.figure(figsize=(20,5))\n",
    "sns.countplot(x=cat_col[9], hue=\"high_risk_applicant\", data=df_n)"
   ]
  },
  {
   "cell_type": "code",
   "execution_count": 85,
   "metadata": {},
   "outputs": [
    {
     "data": {
      "text/plain": [
       "<AxesSubplot:xlabel='Has_guarantor', ylabel='count'>"
      ]
     },
     "execution_count": 85,
     "metadata": {},
     "output_type": "execute_result"
    },
    {
     "data": {
      "image/png": "[encoded data removed]",
      "text/plain": [
       "<Figure size 1440x360 with 1 Axes>"
      ]
     },
     "metadata": {
      "needs_background": "light"
     },
     "output_type": "display_data"
    }
   ],
   "source": [
    "plt.figure(figsize=(20,5))\n",
    "sns.countplot(x=cat_col[9], hue=\"high_risk_applicant\", data=df_y)"
   ]
  },
  {
   "cell_type": "markdown",
   "metadata": {},
   "source": [
    "Observation:\n",
    "* If there is no gurantor that person has higher chance of categorized as high risk compared to with gurantor, which is but obvious"
   ]
  },
  {
   "cell_type": "markdown",
   "metadata": {},
   "source": [
    "### Loan History"
   ]
  },
  {
   "cell_type": "code",
   "execution_count": 86,
   "metadata": {},
   "outputs": [
    {
     "name": "stdout",
     "output_type": "stream",
     "text": [
      "The percentage of existing loans paid back duly till now for low risk type in this column is:52.58 %\n",
      "The percentage of critical/pending loans at other banks for low risk type in this column is:35.45 %\n",
      "The percentage of delay in paying off loans in the past for low risk type in this column is:7.42 %\n",
      "The percentage of all loans at this bank paid back duly for low risk type in this column is:2.88 %\n",
      "The percentage of no loans taken/all loans paid back duly for low risk type in this column is:1.67 %\n",
      "The percentage of existing loans paid back duly till now for high risk type in this column is:56.59 %\n",
      "The percentage of critical/pending loans at other banks for high risk type in this column is:16.28 %\n",
      "The percentage of all loans at this bank paid back duly for high risk type in this column is:10.08 %\n",
      "The percentage of delay in paying off loans in the past for high risk type in this column is:9.3 %\n",
      "The percentage of no loans taken/all loans paid back duly for high risk type in this column is:7.75 %\n"
     ]
    },
    {
     "data": {
      "image/png": "[encoded data removed]",
      "text/plain": [
       "<Figure size 1440x360 with 1 Axes>"
      ]
     },
     "metadata": {
      "needs_background": "light"
     },
     "output_type": "display_data"
    }
   ],
   "source": [
    "# for i in range(len(cat_col)):\n",
    "plt.figure(figsize=(20,5))\n",
    "sns.countplot(x =cat_col[10], data = df_new)\n",
    "calculate_percentage_n(cat_col[10])"
   ]
  },
  {
   "cell_type": "code",
   "execution_count": 87,
   "metadata": {},
   "outputs": [
    {
     "data": {
      "text/plain": [
       "<AxesSubplot:xlabel='Loan_history', ylabel='count'>"
      ]
     },
     "execution_count": 87,
     "metadata": {},
     "output_type": "execute_result"
    },
    {
     "data": {
      "image/png": "[encoded data removed]",
      "text/plain": [
       "<Figure size 1440x360 with 1 Axes>"
      ]
     },
     "metadata": {
      "needs_background": "light"
     },
     "output_type": "display_data"
    }
   ],
   "source": [
    "plt.figure(figsize=(20,5))\n",
    "sns.countplot(x=cat_col[10], hue=\"high_risk_applicant\", data=df_n)"
   ]
  },
  {
   "cell_type": "code",
   "execution_count": 88,
   "metadata": {},
   "outputs": [
    {
     "data": {
      "text/plain": [
       "<AxesSubplot:xlabel='Loan_history', ylabel='count'>"
      ]
     },
     "execution_count": 88,
     "metadata": {},
     "output_type": "execute_result"
    },
    {
     "data": {
      "image/png": "[encoded data removed]",
      "text/plain": [
       "<Figure size 1440x360 with 1 Axes>"
      ]
     },
     "metadata": {
      "needs_background": "light"
     },
     "output_type": "display_data"
    }
   ],
   "source": [
    "plt.figure(figsize=(20,5))\n",
    "sns.countplot(x=cat_col[10], hue=\"high_risk_applicant\", data=df_y)"
   ]
  },
  {
   "cell_type": "markdown",
   "metadata": {},
   "source": [
    "Observation:\n",
    "* The observations seems wrong to me, all loans paid back duly shows higher chance of categorized at high risk rather should be low risked, hence dropping this column"
   ]
  },
  {
   "cell_type": "markdown",
   "metadata": {},
   "source": [
    "## numerical"
   ]
  },
  {
   "cell_type": "markdown",
   "metadata": {},
   "source": [
    "### Primary Applicants age"
   ]
  },
  {
   "cell_type": "code",
   "execution_count": 89,
   "metadata": {},
   "outputs": [
    {
     "data": {
      "text/plain": [
       "<AxesSubplot:xlabel='high_risk_applicant', ylabel='Primary_applicant_age_in_years'>"
      ]
     },
     "execution_count": 89,
     "metadata": {},
     "output_type": "execute_result"
    },
    {
     "data": {
      "image/png": "[encoded data removed]",
      "text/plain": [
       "<Figure size 1440x360 with 1 Axes>"
      ]
     },
     "metadata": {
      "needs_background": "light"
     },
     "output_type": "display_data"
    },
    {
     "data": {
      "image/png": "[encoded data removed]",
      "text/plain": [
       "<Figure size 576x720 with 1 Axes>"
      ]
     },
     "metadata": {
      "needs_background": "light"
     },
     "output_type": "display_data"
    }
   ],
   "source": [
    "# for i in range(len(cat_col)):\n",
    "plt.figure(figsize=(20,5))\n",
    "sns.countplot(x =num_col[0], data = df_new)\n",
    "# calculate_percentage_n(num_col[0])\n",
    "plt.figure(figsize=(8,10))\n",
    "sns.boxplot(x=\"high_risk_applicant\",y=num_col[0], data=df_new)"
   ]
  },
  {
   "cell_type": "markdown",
   "metadata": {},
   "source": [
    "Observation:\n",
    "* Applicant with age around 35 are low risk compared to people younger than it"
   ]
  },
  {
   "cell_type": "markdown",
   "metadata": {},
   "source": [
    "### Dependents\n"
   ]
  },
  {
   "cell_type": "code",
   "execution_count": 90,
   "metadata": {},
   "outputs": [
    {
     "name": "stdout",
     "output_type": "stream",
     "text": [
      "The percentage of 1 for low risk type in this column is:84.7 %\n",
      "The percentage of 2 for low risk type in this column is:15.3 %\n",
      "The percentage of 1 for high risk type in this column is:83.72 %\n",
      "The percentage of 2 for high risk type in this column is:16.28 %\n"
     ]
    },
    {
     "data": {
      "image/png": "[encoded data removed]",
      "text/plain": [
       "<Figure size 1440x360 with 1 Axes>"
      ]
     },
     "metadata": {
      "needs_background": "light"
     },
     "output_type": "display_data"
    }
   ],
   "source": [
    "# for i in range(len(cat_col)):\n",
    "plt.figure(figsize=(20,5))\n",
    "sns.countplot(x =num_col[1], data = df_new)\n",
    "calculate_percentage_n(num_col[1])"
   ]
  },
  {
   "cell_type": "markdown",
   "metadata": {},
   "source": [
    "Observations:\n",
    "* Person with 1 dependent on it are considered low risk compared to 2 dependent on them\n",
    "* Although, difference in categorising in risk is not much -> so column can be dropped"
   ]
  },
  {
   "cell_type": "markdown",
   "metadata": {},
   "source": [
    "### Year at current residence"
   ]
  },
  {
   "cell_type": "code",
   "execution_count": 91,
   "metadata": {},
   "outputs": [
    {
     "name": "stdout",
     "output_type": "stream",
     "text": [
      "The percentage of 4 for low risk type in this column is:41.52 %\n",
      "The percentage of 2 for low risk type in this column is:29.85 %\n",
      "The percentage of 3 for low risk type in this column is:15.0 %\n",
      "The percentage of 1 for low risk type in this column is:13.64 %\n",
      "The percentage of 4 for high risk type in this column is:40.7 %\n",
      "The percentage of 2 for high risk type in this column is:31.4 %\n",
      "The percentage of 3 for high risk type in this column is:15.5 %\n",
      "The percentage of 1 for high risk type in this column is:12.4 %\n"
     ]
    },
    {
     "data": {
      "image/png": "[encoded data removed]",
      "text/plain": [
       "<Figure size 1440x360 with 1 Axes>"
      ]
     },
     "metadata": {
      "needs_background": "light"
     },
     "output_type": "display_data"
    }
   ],
   "source": [
    "# for i in range(len(cat_col)):\n",
    "plt.figure(figsize=(20,5))\n",
    "sns.countplot(x =num_col[2], data = df_new)\n",
    "calculate_percentage_n(num_col[2])"
   ]
  },
  {
   "cell_type": "code",
   "execution_count": 92,
   "metadata": {},
   "outputs": [
    {
     "data": {
      "text/plain": [
       "<AxesSubplot:xlabel='high_risk_applicant', ylabel='Years_at_current_residence'>"
      ]
     },
     "execution_count": 92,
     "metadata": {},
     "output_type": "execute_result"
    },
    {
     "data": {
      "image/png": "[encoded data removed]",
      "text/plain": [
       "<Figure size 432x288 with 1 Axes>"
      ]
     },
     "metadata": {
      "needs_background": "light"
     },
     "output_type": "display_data"
    }
   ],
   "source": [
    "sns.boxplot(x=\"high_risk_applicant\",y=num_col[2], data=df_new)"
   ]
  },
  {
   "cell_type": "markdown",
   "metadata": {},
   "source": [
    "Observation:\n",
    "* Years as 4 and 1 are classified as low risk applicant however the difference in perecentage isn't much and from box plot as well it would be better to drop this column"
   ]
  },
  {
   "cell_type": "markdown",
   "metadata": {},
   "source": [
    "### Employed years"
   ]
  },
  {
   "cell_type": "markdown",
   "metadata": {},
   "source": [
    "#### At least"
   ]
  },
  {
   "cell_type": "code",
   "execution_count": 93,
   "metadata": {},
   "outputs": [
    {
     "name": "stdout",
     "output_type": "stream",
     "text": [
      "The percentage of 1 for low risk type in this column is:33.94 %\n",
      "The percentage of 7 for low risk type in this column is:27.42 %\n",
      "The percentage of 0 for low risk type in this column is:19.85 %\n",
      "The percentage of 4 for low risk type in this column is:18.79 %\n",
      "The percentage of 1 for high risk type in this column is:35.27 %\n",
      "The percentage of 0 for high risk type in this column is:31.78 %\n",
      "The percentage of 7 for high risk type in this column is:20.16 %\n",
      "The percentage of 4 for high risk type in this column is:12.79 %\n"
     ]
    },
    {
     "data": {
      "image/png": "[encoded data removed]",
      "text/plain": [
       "<Figure size 1440x360 with 1 Axes>"
      ]
     },
     "metadata": {
      "needs_background": "light"
     },
     "output_type": "display_data"
    }
   ],
   "source": [
    "# for i in range(len(cat_col)):\n",
    "plt.figure(figsize=(20,5))\n",
    "sns.countplot(x =num_col[3], data = df_new)\n",
    "calculate_percentage_n(num_col[3])"
   ]
  },
  {
   "cell_type": "code",
   "execution_count": 94,
   "metadata": {},
   "outputs": [
    {
     "data": {
      "text/plain": [
       "<AxesSubplot:xlabel='high_risk_applicant', ylabel='Employed_for_at_least_years'>"
      ]
     },
     "execution_count": 94,
     "metadata": {},
     "output_type": "execute_result"
    },
    {
     "data": {
      "image/png": "[encoded data removed]",
      "text/plain": [
       "<Figure size 432x288 with 1 Axes>"
      ]
     },
     "metadata": {
      "needs_background": "light"
     },
     "output_type": "display_data"
    }
   ],
   "source": [
    "sns.boxplot(x=\"high_risk_applicant\",y=num_col[3], data=df_new)"
   ]
  },
  {
   "cell_type": "markdown",
   "metadata": {},
   "source": [
    "Observation:\n",
    "* The person is considered at highest risk when employeed for atleast 0 or 1 year compared to atleast 4 and 7 years, it is obvious because if person is employeed for longer duration it can be assumed to have some more amount of money as savings"
   ]
  },
  {
   "cell_type": "markdown",
   "metadata": {},
   "source": [
    "#### At most"
   ]
  },
  {
   "cell_type": "code",
   "execution_count": 95,
   "metadata": {},
   "outputs": [
    {
     "name": "stdout",
     "output_type": "stream",
     "text": [
      "The percentage of 4 for low risk type in this column is:33.94 %\n",
      "The percentage of 0 for low risk type in this column is:32.42 %\n",
      "The percentage of 7 for low risk type in this column is:18.79 %\n",
      "The percentage of 1 for low risk type in this column is:14.85 %\n",
      "The percentage of 4 for high risk type in this column is:35.27 %\n",
      "The percentage of 0 for high risk type in this column is:27.91 %\n",
      "The percentage of 1 for high risk type in this column is:24.03 %\n",
      "The percentage of 7 for high risk type in this column is:12.79 %\n"
     ]
    },
    {
     "data": {
      "image/png": "[encoded data removed]",
      "text/plain": [
       "<Figure size 1440x360 with 1 Axes>"
      ]
     },
     "metadata": {
      "needs_background": "light"
     },
     "output_type": "display_data"
    }
   ],
   "source": [
    "# for i in range(len(cat_col)):\n",
    "plt.figure(figsize=(20,5))\n",
    "sns.countplot(x =num_col[4], data = df_new)\n",
    "calculate_percentage_n(num_col[4])"
   ]
  },
  {
   "cell_type": "code",
   "execution_count": 96,
   "metadata": {},
   "outputs": [
    {
     "data": {
      "text/plain": [
       "<AxesSubplot:xlabel='high_risk_applicant', ylabel='Employed_for_at_most_years'>"
      ]
     },
     "execution_count": 96,
     "metadata": {},
     "output_type": "execute_result"
    },
    {
     "data": {
      "image/png": "[encoded data removed]",
      "text/plain": [
       "<Figure size 432x288 with 1 Axes>"
      ]
     },
     "metadata": {
      "needs_background": "light"
     },
     "output_type": "display_data"
    }
   ],
   "source": [
    "sns.boxplot(x=\"high_risk_applicant\",y=num_col[4], data=df_new)"
   ]
  },
  {
   "cell_type": "markdown",
   "metadata": {},
   "source": [
    "Observation:\n",
    "* The columns seems skeptical since if atmost value for years is 0 than person has higher chance of categorized as low risk\n",
    "* Such behavior can be also result of mis-management of missing valuesn hence dropping this column"
   ]
  },
  {
   "cell_type": "markdown",
   "metadata": {},
   "source": [
    "### Current balance"
   ]
  },
  {
   "cell_type": "markdown",
   "metadata": {},
   "source": [
    "#### Lower limit bucket"
   ]
  },
  {
   "cell_type": "code",
   "execution_count": 97,
   "metadata": {},
   "outputs": [
    {
     "name": "stdout",
     "output_type": "stream",
     "text": [
      "The percentage of 0 for low risk type in this column is:92.58 %\n",
      "The percentage of 200000 for low risk type in this column is:7.42 %\n",
      "The percentage of 0 for high risk type in this column is:94.57 %\n",
      "The percentage of 200000 for high risk type in this column is:5.43 %\n"
     ]
    },
    {
     "data": {
      "image/png": "[encoded data removed]",
      "text/plain": [
       "<Figure size 1440x360 with 1 Axes>"
      ]
     },
     "metadata": {
      "needs_background": "light"
     },
     "output_type": "display_data"
    }
   ],
   "source": [
    "# for i in range(len(cat_col)):\n",
    "plt.figure(figsize=(20,5))\n",
    "sns.countplot(x =num_col[5], data = df_new)\n",
    "calculate_percentage_n(num_col[5])"
   ]
  },
  {
   "cell_type": "markdown",
   "metadata": {},
   "source": [
    "Observations:\n",
    "* Person with lower limit bucket as 0 is considered at high risk\n"
   ]
  },
  {
   "cell_type": "markdown",
   "metadata": {},
   "source": [
    "#### Upper limit bucket"
   ]
  },
  {
   "cell_type": "code",
   "execution_count": 98,
   "metadata": {},
   "outputs": [
    {
     "name": "stdout",
     "output_type": "stream",
     "text": [
      "The percentage of 0 for low risk type in this column is:76.97 %\n",
      "The percentage of 200000 for low risk type in this column is:23.03 %\n",
      "The percentage of 0 for high risk type in this column is:67.83 %\n",
      "The percentage of 200000 for high risk type in this column is:32.17 %\n"
     ]
    },
    {
     "data": {
      "image/png": "[encoded data removed]",
      "text/plain": [
       "<Figure size 1440x360 with 1 Axes>"
      ]
     },
     "metadata": {
      "needs_background": "light"
     },
     "output_type": "display_data"
    }
   ],
   "source": [
    "# for i in range(len(cat_col)):\n",
    "plt.figure(figsize=(20,5))\n",
    "sns.countplot(x =num_col[6], data = df_new)\n",
    "calculate_percentage_n(num_col[6])"
   ]
  },
  {
   "cell_type": "markdown",
   "metadata": {},
   "source": [
    "Observation:\n",
    "* Person with 2 lac upper limit of bucket, seems to be at high risk"
   ]
  },
  {
   "cell_type": "markdown",
   "metadata": {},
   "source": [
    "* Current balance with upper and lower limit bucket are out of my scope of understanding, hence we remove these columns "
   ]
  },
  {
   "cell_type": "markdown",
   "metadata": {},
   "source": [
    "### Months loan taken for"
   ]
  },
  {
   "cell_type": "code",
   "execution_count": 99,
   "metadata": {},
   "outputs": [
    {
     "data": {
      "text/plain": [
       "<AxesSubplot:xlabel='high_risk_applicant', ylabel='Months_loan_taken_for'>"
      ]
     },
     "execution_count": 99,
     "metadata": {},
     "output_type": "execute_result"
    },
    {
     "data": {
      "image/png": "[encoded data removed]",
      "text/plain": [
       "<Figure size 1440x360 with 1 Axes>"
      ]
     },
     "metadata": {
      "needs_background": "light"
     },
     "output_type": "display_data"
    },
    {
     "data": {
      "image/png": "[encoded data removed]",
      "text/plain": [
       "<Figure size 576x720 with 1 Axes>"
      ]
     },
     "metadata": {
      "needs_background": "light"
     },
     "output_type": "display_data"
    }
   ],
   "source": [
    "# for i in range(len(cat_col)):\n",
    "plt.figure(figsize=(20,5))\n",
    "sns.countplot(x =num_col[7], data = df_new)\n",
    "# grid = sns.FacetGrid(df_new,col='high_risk_applicant', size=10.2, aspect=1.6)\n",
    "# grid.map(sns.countplot, num_col[7])\n",
    "plt.figure(figsize=(8,10))\n",
    "sns.boxplot(x=\"high_risk_applicant\",y=\"Months_loan_taken_for\", data=df_new)\n",
    "# calculate_percentage_n(num_col[7])"
   ]
  },
  {
   "cell_type": "markdown",
   "metadata": {},
   "source": [
    "Observation:\n",
    "* If the person has loan taken around for 15 months seems to be as low risk applicant and higher than that i.e. around 20 seems at high risk applicant"
   ]
  },
  {
   "cell_type": "markdown",
   "metadata": {},
   "source": [
    "### principal loan amount"
   ]
  },
  {
   "cell_type": "code",
   "execution_count": 100,
   "metadata": {},
   "outputs": [
    {
     "data": {
      "text/plain": [
       "<AxesSubplot:xlabel='high_risk_applicant', ylabel='Principal_loan_amount'>"
      ]
     },
     "execution_count": 100,
     "metadata": {},
     "output_type": "execute_result"
    },
    {
     "data": {
      "image/png": "[encoded data removed]",
      "text/plain": [
       "<Figure size 576x720 with 1 Axes>"
      ]
     },
     "metadata": {
      "needs_background": "light"
     },
     "output_type": "display_data"
    }
   ],
   "source": [
    "\n",
    "# plt.figure(figsize=(20,5))\n",
    "# sns.countplot(x =num_col[8], data = df_new)\n",
    "plt.figure(figsize=(8,10))\n",
    "sns.boxplot(x=\"high_risk_applicant\",y=\"Principal_loan_amount\", data=df_new)"
   ]
  },
  {
   "cell_type": "code",
   "execution_count": 101,
   "metadata": {},
   "outputs": [
    {
     "data": {
      "image/png": "[encoded data removed]",
      "text/plain": [
       "<Figure size 720x576 with 2 Axes>"
      ]
     },
     "metadata": {
      "needs_background": "light"
     },
     "output_type": "display_data"
    }
   ],
   "source": [
    "ax = df_new.plot.hist(column=num_col[8], by=\"high_risk_applicant\", figsize=(10, 8))"
   ]
  },
  {
   "cell_type": "markdown",
   "metadata": {},
   "source": [
    "Observation:\n",
    "* For principal amount between 1 and 2 lac has higher chance of getting loan, however when considering low an high risk applicant nothing can be said"
   ]
  },
  {
   "cell_type": "markdown",
   "metadata": {},
   "source": [
    "### EMI rate in percentage of disposal income"
   ]
  },
  {
   "cell_type": "code",
   "execution_count": 102,
   "metadata": {},
   "outputs": [
    {
     "name": "stdout",
     "output_type": "stream",
     "text": [
      "The percentage of 4 for low risk type in this column is:46.82 %\n",
      "The percentage of 2 for low risk type in this column is:22.42 %\n",
      "The percentage of 3 for low risk type in this column is:16.36 %\n",
      "The percentage of 1 for low risk type in this column is:14.39 %\n",
      "The percentage of 4 for high risk type in this column is:56.98 %\n",
      "The percentage of 2 for high risk type in this column is:18.99 %\n",
      "The percentage of 3 for high risk type in this column is:15.5 %\n",
      "The percentage of 1 for high risk type in this column is:8.53 %\n"
     ]
    },
    {
     "data": {
      "image/png": "[encoded data removed]",
      "text/plain": [
       "<Figure size 1440x360 with 1 Axes>"
      ]
     },
     "metadata": {
      "needs_background": "light"
     },
     "output_type": "display_data"
    }
   ],
   "source": [
    "# for i in range(len(cat_col)):\n",
    "plt.figure(figsize=(20,5))\n",
    "sns.countplot(x =num_col[9], data = df_new)\n",
    "calculate_percentage_n(num_col[9])"
   ]
  },
  {
   "cell_type": "code",
   "execution_count": 103,
   "metadata": {},
   "outputs": [
    {
     "data": {
      "text/plain": [
       "<AxesSubplot:xlabel='EMI_rate_in_percentage_of_disposable_income', ylabel='count'>"
      ]
     },
     "execution_count": 103,
     "metadata": {},
     "output_type": "execute_result"
    },
    {
     "data": {
      "image/png": "[encoded data removed]",
      "text/plain": [
       "<Figure size 432x288 with 1 Axes>"
      ]
     },
     "metadata": {
      "needs_background": "light"
     },
     "output_type": "display_data"
    }
   ],
   "source": [
    "sns.countplot(x=num_col[9], hue=\"high_risk_applicant\", data=df_n)"
   ]
  },
  {
   "cell_type": "code",
   "execution_count": 104,
   "metadata": {},
   "outputs": [
    {
     "data": {
      "text/plain": [
       "<AxesSubplot:xlabel='EMI_rate_in_percentage_of_disposable_income', ylabel='count'>"
      ]
     },
     "execution_count": 104,
     "metadata": {},
     "output_type": "execute_result"
    },
    {
     "data": {
      "image/png": "[encoded data removed]",
      "text/plain": [
       "<Figure size 432x288 with 1 Axes>"
      ]
     },
     "metadata": {
      "needs_background": "light"
     },
     "output_type": "display_data"
    }
   ],
   "source": [
    "sns.countplot(x=num_col[9], hue=\"high_risk_applicant\", data=df_y)"
   ]
  },
  {
   "cell_type": "markdown",
   "metadata": {},
   "source": [
    "Observations:\n",
    "*  For low EMI rate the person has higher chance of classified as low risk applicanti.e. for 1,2\n",
    "*  For rate as 3, no great diff is found"
   ]
  },
  {
   "cell_type": "markdown",
   "metadata": {},
   "source": [
    "### Number of existing loans"
   ]
  },
  {
   "cell_type": "code",
   "execution_count": 105,
   "metadata": {},
   "outputs": [
    {
     "name": "stdout",
     "output_type": "stream",
     "text": [
      "The percentage of 1 for low risk type in this column is:61.97 %\n",
      "The percentage of 2 for low risk type in this column is:34.39 %\n",
      "The percentage of 3 for low risk type in this column is:3.03 %\n",
      "The percentage of 4 for low risk type in this column is:0.61 %\n",
      "The percentage of 1 for high risk type in this column is:67.83 %\n",
      "The percentage of 2 for high risk type in this column is:29.84 %\n",
      "The percentage of 3 for high risk type in this column is:1.94 %\n",
      "The percentage of 4 for high risk type in this column is:0.39 %\n"
     ]
    },
    {
     "data": {
      "image/png": "[encoded data removed]",
      "text/plain": [
       "<Figure size 1440x360 with 1 Axes>"
      ]
     },
     "metadata": {
      "needs_background": "light"
     },
     "output_type": "display_data"
    }
   ],
   "source": [
    "# for i in range(len(cat_col)):\n",
    "plt.figure(figsize=(20,5))\n",
    "sns.countplot(x =num_col[10], data = df_new)\n",
    "calculate_percentage_n(num_col[10])"
   ]
  },
  {
   "cell_type": "markdown",
   "metadata": {},
   "source": [
    "Observations:\n",
    "* Person which has higher number of existing loans from the bank are considered to be as low risk applicant, the reason can be person is already responsible for few loans and not paying back one can effect his/her other loans. More realiability-> More chance of low risk applicant"
   ]
  },
  {
   "cell_type": "code",
   "execution_count": 106,
   "metadata": {},
   "outputs": [],
   "source": [
    "df_new_1=df_new.copy()\n",
    "# making a sample and then applying label encoding over it wrt high risk applicant in order to be safe if one need to undo the encoding"
   ]
  },
  {
   "cell_type": "markdown",
   "metadata": {},
   "source": [
    "# Droping columns based on EDA \n",
    "years_employed_atmost, years at current residence, dependents, employemnt status, loan history, current balance upper as well as lower limit\n"
   ]
  },
  {
   "cell_type": "code",
   "execution_count": 107,
   "metadata": {},
   "outputs": [],
   "source": [
    "col_drop=['Employed_for_at_most_years', 'Years_at_current_residence', 'Number_of_dependents', 'Employment_status', 'Loan_history', 'Balance_in_existing_bank_account_(lower_limit_of_bucket)','Balance_in_existing_bank_account_(upper_limit_of_bucket)']"
   ]
  },
  {
   "cell_type": "code",
   "execution_count": 108,
   "metadata": {},
   "outputs": [],
   "source": [
    "df_new_1=df_new_1.drop(col_drop, axis=1)"
   ]
  },
  {
   "cell_type": "code",
   "execution_count": 109,
   "metadata": {},
   "outputs": [
    {
     "data": {
      "text/plain": [
       "(918, 16)"
      ]
     },
     "execution_count": 109,
     "metadata": {},
     "output_type": "execute_result"
    }
   ],
   "source": [
    "df_new_1.shape"
   ]
  },
  {
   "cell_type": "markdown",
   "metadata": {},
   "source": [
    "# Label Encoding"
   ]
  },
  {
   "cell_type": "markdown",
   "metadata": {},
   "source": [
    "Preparing the datafraem for training model"
   ]
  },
  {
   "cell_type": "code",
   "execution_count": 110,
   "metadata": {},
   "outputs": [
    {
     "name": "stdout",
     "output_type": "stream",
     "text": [
      "[1 0]\n",
      "[3 1 0 2]\n",
      "[1 0 2]\n",
      "[1 0]\n",
      "[3 1 0 4 2]\n",
      "[5 4 6 0 8 1 3 7 2]\n",
      "[3 0 1 2]\n",
      "[0 1]\n",
      "[0 1]\n",
      "[0 1]\n"
     ]
    }
   ],
   "source": [
    "from sklearn import preprocessing\n",
    "cols=['Gender', 'Marital_status', 'Housing',\n",
    "       'Foreign_worker', 'SA_balance_type', 'Purpose', 'Property',\n",
    "       'Has_coapplicant', 'Has_guarantor','high_risk_applicant']\n",
    "# label_encoder object knows how to understand word labels.\n",
    "label_encoder = preprocessing.LabelEncoder()\n",
    "  \n",
    "# Encode labels in column 'species'.\n",
    "for col in cols:\n",
    "       df_new_1[col]= label_encoder.fit_transform(df_new_1[col])\n",
    "       print(df_new_1[col].unique())"
   ]
  },
  {
   "cell_type": "markdown",
   "metadata": {},
   "source": [
    "Let's check the entire dataframe"
   ]
  },
  {
   "cell_type": "code",
   "execution_count": 111,
   "metadata": {},
   "outputs": [
    {
     "data": {
      "text/html": [
       "<div>\n",
       "<style scoped>\n",
       "    .dataframe tbody tr th:only-of-type {\n",
       "        vertical-align: middle;\n",
       "    }\n",
       "\n",
       "    .dataframe tbody tr th {\n",
       "        vertical-align: top;\n",
       "    }\n",
       "\n",
       "    .dataframe thead th {\n",
       "        text-align: right;\n",
       "    }\n",
       "</style>\n",
       "<table border=\"1\" class=\"dataframe\">\n",
       "  <thead>\n",
       "    <tr style=\"text-align: right;\">\n",
       "      <th></th>\n",
       "      <th>Primary_applicant_age_in_years</th>\n",
       "      <th>Gender</th>\n",
       "      <th>Marital_status</th>\n",
       "      <th>Housing</th>\n",
       "      <th>Employed_for_at_least_years</th>\n",
       "      <th>Foreign_worker</th>\n",
       "      <th>SA_balance_type</th>\n",
       "      <th>Months_loan_taken_for</th>\n",
       "      <th>Purpose</th>\n",
       "      <th>Principal_loan_amount</th>\n",
       "      <th>EMI_rate_in_percentage_of_disposable_income</th>\n",
       "      <th>Property</th>\n",
       "      <th>Has_coapplicant</th>\n",
       "      <th>Has_guarantor</th>\n",
       "      <th>Number_of_existing_loans_at_this_bank</th>\n",
       "      <th>high_risk_applicant</th>\n",
       "    </tr>\n",
       "  </thead>\n",
       "  <tbody>\n",
       "    <tr>\n",
       "      <th>0</th>\n",
       "      <td>67</td>\n",
       "      <td>1</td>\n",
       "      <td>3</td>\n",
       "      <td>1</td>\n",
       "      <td>7</td>\n",
       "      <td>1</td>\n",
       "      <td>3</td>\n",
       "      <td>6</td>\n",
       "      <td>5</td>\n",
       "      <td>1169000</td>\n",
       "      <td>4</td>\n",
       "      <td>3</td>\n",
       "      <td>0</td>\n",
       "      <td>0</td>\n",
       "      <td>2</td>\n",
       "      <td>0</td>\n",
       "    </tr>\n",
       "    <tr>\n",
       "      <th>1</th>\n",
       "      <td>22</td>\n",
       "      <td>0</td>\n",
       "      <td>1</td>\n",
       "      <td>1</td>\n",
       "      <td>1</td>\n",
       "      <td>1</td>\n",
       "      <td>1</td>\n",
       "      <td>48</td>\n",
       "      <td>5</td>\n",
       "      <td>5951000</td>\n",
       "      <td>2</td>\n",
       "      <td>3</td>\n",
       "      <td>0</td>\n",
       "      <td>0</td>\n",
       "      <td>1</td>\n",
       "      <td>1</td>\n",
       "    </tr>\n",
       "    <tr>\n",
       "      <th>2</th>\n",
       "      <td>49</td>\n",
       "      <td>1</td>\n",
       "      <td>3</td>\n",
       "      <td>1</td>\n",
       "      <td>4</td>\n",
       "      <td>1</td>\n",
       "      <td>1</td>\n",
       "      <td>12</td>\n",
       "      <td>4</td>\n",
       "      <td>2096000</td>\n",
       "      <td>2</td>\n",
       "      <td>3</td>\n",
       "      <td>0</td>\n",
       "      <td>0</td>\n",
       "      <td>1</td>\n",
       "      <td>0</td>\n",
       "    </tr>\n",
       "    <tr>\n",
       "      <th>4</th>\n",
       "      <td>53</td>\n",
       "      <td>1</td>\n",
       "      <td>3</td>\n",
       "      <td>0</td>\n",
       "      <td>1</td>\n",
       "      <td>1</td>\n",
       "      <td>1</td>\n",
       "      <td>24</td>\n",
       "      <td>6</td>\n",
       "      <td>4870000</td>\n",
       "      <td>3</td>\n",
       "      <td>0</td>\n",
       "      <td>0</td>\n",
       "      <td>0</td>\n",
       "      <td>2</td>\n",
       "      <td>1</td>\n",
       "    </tr>\n",
       "    <tr>\n",
       "      <th>6</th>\n",
       "      <td>53</td>\n",
       "      <td>1</td>\n",
       "      <td>3</td>\n",
       "      <td>1</td>\n",
       "      <td>7</td>\n",
       "      <td>1</td>\n",
       "      <td>0</td>\n",
       "      <td>24</td>\n",
       "      <td>0</td>\n",
       "      <td>2835000</td>\n",
       "      <td>3</td>\n",
       "      <td>1</td>\n",
       "      <td>0</td>\n",
       "      <td>0</td>\n",
       "      <td>1</td>\n",
       "      <td>0</td>\n",
       "    </tr>\n",
       "    <tr>\n",
       "      <th>...</th>\n",
       "      <td>...</td>\n",
       "      <td>...</td>\n",
       "      <td>...</td>\n",
       "      <td>...</td>\n",
       "      <td>...</td>\n",
       "      <td>...</td>\n",
       "      <td>...</td>\n",
       "      <td>...</td>\n",
       "      <td>...</td>\n",
       "      <td>...</td>\n",
       "      <td>...</td>\n",
       "      <td>...</td>\n",
       "      <td>...</td>\n",
       "      <td>...</td>\n",
       "      <td>...</td>\n",
       "      <td>...</td>\n",
       "    </tr>\n",
       "    <tr>\n",
       "      <th>995</th>\n",
       "      <td>31</td>\n",
       "      <td>0</td>\n",
       "      <td>1</td>\n",
       "      <td>1</td>\n",
       "      <td>4</td>\n",
       "      <td>1</td>\n",
       "      <td>1</td>\n",
       "      <td>12</td>\n",
       "      <td>0</td>\n",
       "      <td>1736000</td>\n",
       "      <td>3</td>\n",
       "      <td>3</td>\n",
       "      <td>0</td>\n",
       "      <td>0</td>\n",
       "      <td>1</td>\n",
       "      <td>0</td>\n",
       "    </tr>\n",
       "    <tr>\n",
       "      <th>996</th>\n",
       "      <td>40</td>\n",
       "      <td>1</td>\n",
       "      <td>0</td>\n",
       "      <td>1</td>\n",
       "      <td>1</td>\n",
       "      <td>1</td>\n",
       "      <td>1</td>\n",
       "      <td>30</td>\n",
       "      <td>8</td>\n",
       "      <td>3857000</td>\n",
       "      <td>4</td>\n",
       "      <td>1</td>\n",
       "      <td>0</td>\n",
       "      <td>0</td>\n",
       "      <td>1</td>\n",
       "      <td>0</td>\n",
       "    </tr>\n",
       "    <tr>\n",
       "      <th>997</th>\n",
       "      <td>38</td>\n",
       "      <td>1</td>\n",
       "      <td>3</td>\n",
       "      <td>1</td>\n",
       "      <td>7</td>\n",
       "      <td>1</td>\n",
       "      <td>1</td>\n",
       "      <td>12</td>\n",
       "      <td>5</td>\n",
       "      <td>804000</td>\n",
       "      <td>4</td>\n",
       "      <td>2</td>\n",
       "      <td>0</td>\n",
       "      <td>0</td>\n",
       "      <td>1</td>\n",
       "      <td>0</td>\n",
       "    </tr>\n",
       "    <tr>\n",
       "      <th>998</th>\n",
       "      <td>23</td>\n",
       "      <td>1</td>\n",
       "      <td>3</td>\n",
       "      <td>0</td>\n",
       "      <td>1</td>\n",
       "      <td>1</td>\n",
       "      <td>1</td>\n",
       "      <td>45</td>\n",
       "      <td>5</td>\n",
       "      <td>1845000</td>\n",
       "      <td>4</td>\n",
       "      <td>0</td>\n",
       "      <td>0</td>\n",
       "      <td>0</td>\n",
       "      <td>1</td>\n",
       "      <td>1</td>\n",
       "    </tr>\n",
       "    <tr>\n",
       "      <th>999</th>\n",
       "      <td>27</td>\n",
       "      <td>1</td>\n",
       "      <td>3</td>\n",
       "      <td>1</td>\n",
       "      <td>0</td>\n",
       "      <td>1</td>\n",
       "      <td>2</td>\n",
       "      <td>45</td>\n",
       "      <td>8</td>\n",
       "      <td>4576000</td>\n",
       "      <td>3</td>\n",
       "      <td>2</td>\n",
       "      <td>0</td>\n",
       "      <td>0</td>\n",
       "      <td>1</td>\n",
       "      <td>0</td>\n",
       "    </tr>\n",
       "  </tbody>\n",
       "</table>\n",
       "<p>918 rows × 16 columns</p>\n",
       "</div>"
      ],
      "text/plain": [
       "     Primary_applicant_age_in_years  Gender  Marital_status  Housing  \\\n",
       "0                                67       1               3        1   \n",
       "1                                22       0               1        1   \n",
       "2                                49       1               3        1   \n",
       "4                                53       1               3        0   \n",
       "6                                53       1               3        1   \n",
       "..                              ...     ...             ...      ...   \n",
       "995                              31       0               1        1   \n",
       "996                              40       1               0        1   \n",
       "997                              38       1               3        1   \n",
       "998                              23       1               3        0   \n",
       "999                              27       1               3        1   \n",
       "\n",
       "     Employed_for_at_least_years  Foreign_worker  SA_balance_type  \\\n",
       "0                              7               1                3   \n",
       "1                              1               1                1   \n",
       "2                              4               1                1   \n",
       "4                              1               1                1   \n",
       "6                              7               1                0   \n",
       "..                           ...             ...              ...   \n",
       "995                            4               1                1   \n",
       "996                            1               1                1   \n",
       "997                            7               1                1   \n",
       "998                            1               1                1   \n",
       "999                            0               1                2   \n",
       "\n",
       "     Months_loan_taken_for  Purpose  Principal_loan_amount  \\\n",
       "0                        6        5                1169000   \n",
       "1                       48        5                5951000   \n",
       "2                       12        4                2096000   \n",
       "4                       24        6                4870000   \n",
       "6                       24        0                2835000   \n",
       "..                     ...      ...                    ...   \n",
       "995                     12        0                1736000   \n",
       "996                     30        8                3857000   \n",
       "997                     12        5                 804000   \n",
       "998                     45        5                1845000   \n",
       "999                     45        8                4576000   \n",
       "\n",
       "     EMI_rate_in_percentage_of_disposable_income  Property  Has_coapplicant  \\\n",
       "0                                              4         3                0   \n",
       "1                                              2         3                0   \n",
       "2                                              2         3                0   \n",
       "4                                              3         0                0   \n",
       "6                                              3         1                0   \n",
       "..                                           ...       ...              ...   \n",
       "995                                            3         3                0   \n",
       "996                                            4         1                0   \n",
       "997                                            4         2                0   \n",
       "998                                            4         0                0   \n",
       "999                                            3         2                0   \n",
       "\n",
       "     Has_guarantor  Number_of_existing_loans_at_this_bank  high_risk_applicant  \n",
       "0                0                                      2                    0  \n",
       "1                0                                      1                    1  \n",
       "2                0                                      1                    0  \n",
       "4                0                                      2                    1  \n",
       "6                0                                      1                    0  \n",
       "..             ...                                    ...                  ...  \n",
       "995              0                                      1                    0  \n",
       "996              0                                      1                    0  \n",
       "997              0                                      1                    0  \n",
       "998              0                                      1                    1  \n",
       "999              0                                      1                    0  \n",
       "\n",
       "[918 rows x 16 columns]"
      ]
     },
     "execution_count": 111,
     "metadata": {},
     "output_type": "execute_result"
    }
   ],
   "source": [
    "df_new_1"
   ]
  },
  {
   "cell_type": "markdown",
   "metadata": {},
   "source": [
    "It can be seen from above dataframe that last index is 999, hence reseting the index"
   ]
  },
  {
   "cell_type": "code",
   "execution_count": 112,
   "metadata": {},
   "outputs": [],
   "source": [
    "df_new_1.reset_index(inplace=True)"
   ]
  },
  {
   "cell_type": "markdown",
   "metadata": {},
   "source": [
    "Checking if reset index is applied or not"
   ]
  },
  {
   "cell_type": "code",
   "execution_count": 113,
   "metadata": {},
   "outputs": [
    {
     "data": {
      "text/html": [
       "<div>\n",
       "<style scoped>\n",
       "    .dataframe tbody tr th:only-of-type {\n",
       "        vertical-align: middle;\n",
       "    }\n",
       "\n",
       "    .dataframe tbody tr th {\n",
       "        vertical-align: top;\n",
       "    }\n",
       "\n",
       "    .dataframe thead th {\n",
       "        text-align: right;\n",
       "    }\n",
       "</style>\n",
       "<table border=\"1\" class=\"dataframe\">\n",
       "  <thead>\n",
       "    <tr style=\"text-align: right;\">\n",
       "      <th></th>\n",
       "      <th>index</th>\n",
       "      <th>Primary_applicant_age_in_years</th>\n",
       "      <th>Gender</th>\n",
       "      <th>Marital_status</th>\n",
       "      <th>Housing</th>\n",
       "      <th>Employed_for_at_least_years</th>\n",
       "      <th>Foreign_worker</th>\n",
       "      <th>SA_balance_type</th>\n",
       "      <th>Months_loan_taken_for</th>\n",
       "      <th>Purpose</th>\n",
       "      <th>Principal_loan_amount</th>\n",
       "      <th>EMI_rate_in_percentage_of_disposable_income</th>\n",
       "      <th>Property</th>\n",
       "      <th>Has_coapplicant</th>\n",
       "      <th>Has_guarantor</th>\n",
       "      <th>Number_of_existing_loans_at_this_bank</th>\n",
       "      <th>high_risk_applicant</th>\n",
       "    </tr>\n",
       "  </thead>\n",
       "  <tbody>\n",
       "    <tr>\n",
       "      <th>0</th>\n",
       "      <td>0</td>\n",
       "      <td>67</td>\n",
       "      <td>1</td>\n",
       "      <td>3</td>\n",
       "      <td>1</td>\n",
       "      <td>7</td>\n",
       "      <td>1</td>\n",
       "      <td>3</td>\n",
       "      <td>6</td>\n",
       "      <td>5</td>\n",
       "      <td>1169000</td>\n",
       "      <td>4</td>\n",
       "      <td>3</td>\n",
       "      <td>0</td>\n",
       "      <td>0</td>\n",
       "      <td>2</td>\n",
       "      <td>0</td>\n",
       "    </tr>\n",
       "    <tr>\n",
       "      <th>1</th>\n",
       "      <td>1</td>\n",
       "      <td>22</td>\n",
       "      <td>0</td>\n",
       "      <td>1</td>\n",
       "      <td>1</td>\n",
       "      <td>1</td>\n",
       "      <td>1</td>\n",
       "      <td>1</td>\n",
       "      <td>48</td>\n",
       "      <td>5</td>\n",
       "      <td>5951000</td>\n",
       "      <td>2</td>\n",
       "      <td>3</td>\n",
       "      <td>0</td>\n",
       "      <td>0</td>\n",
       "      <td>1</td>\n",
       "      <td>1</td>\n",
       "    </tr>\n",
       "    <tr>\n",
       "      <th>2</th>\n",
       "      <td>2</td>\n",
       "      <td>49</td>\n",
       "      <td>1</td>\n",
       "      <td>3</td>\n",
       "      <td>1</td>\n",
       "      <td>4</td>\n",
       "      <td>1</td>\n",
       "      <td>1</td>\n",
       "      <td>12</td>\n",
       "      <td>4</td>\n",
       "      <td>2096000</td>\n",
       "      <td>2</td>\n",
       "      <td>3</td>\n",
       "      <td>0</td>\n",
       "      <td>0</td>\n",
       "      <td>1</td>\n",
       "      <td>0</td>\n",
       "    </tr>\n",
       "    <tr>\n",
       "      <th>3</th>\n",
       "      <td>4</td>\n",
       "      <td>53</td>\n",
       "      <td>1</td>\n",
       "      <td>3</td>\n",
       "      <td>0</td>\n",
       "      <td>1</td>\n",
       "      <td>1</td>\n",
       "      <td>1</td>\n",
       "      <td>24</td>\n",
       "      <td>6</td>\n",
       "      <td>4870000</td>\n",
       "      <td>3</td>\n",
       "      <td>0</td>\n",
       "      <td>0</td>\n",
       "      <td>0</td>\n",
       "      <td>2</td>\n",
       "      <td>1</td>\n",
       "    </tr>\n",
       "    <tr>\n",
       "      <th>4</th>\n",
       "      <td>6</td>\n",
       "      <td>53</td>\n",
       "      <td>1</td>\n",
       "      <td>3</td>\n",
       "      <td>1</td>\n",
       "      <td>7</td>\n",
       "      <td>1</td>\n",
       "      <td>0</td>\n",
       "      <td>24</td>\n",
       "      <td>0</td>\n",
       "      <td>2835000</td>\n",
       "      <td>3</td>\n",
       "      <td>1</td>\n",
       "      <td>0</td>\n",
       "      <td>0</td>\n",
       "      <td>1</td>\n",
       "      <td>0</td>\n",
       "    </tr>\n",
       "    <tr>\n",
       "      <th>...</th>\n",
       "      <td>...</td>\n",
       "      <td>...</td>\n",
       "      <td>...</td>\n",
       "      <td>...</td>\n",
       "      <td>...</td>\n",
       "      <td>...</td>\n",
       "      <td>...</td>\n",
       "      <td>...</td>\n",
       "      <td>...</td>\n",
       "      <td>...</td>\n",
       "      <td>...</td>\n",
       "      <td>...</td>\n",
       "      <td>...</td>\n",
       "      <td>...</td>\n",
       "      <td>...</td>\n",
       "      <td>...</td>\n",
       "      <td>...</td>\n",
       "    </tr>\n",
       "    <tr>\n",
       "      <th>913</th>\n",
       "      <td>995</td>\n",
       "      <td>31</td>\n",
       "      <td>0</td>\n",
       "      <td>1</td>\n",
       "      <td>1</td>\n",
       "      <td>4</td>\n",
       "      <td>1</td>\n",
       "      <td>1</td>\n",
       "      <td>12</td>\n",
       "      <td>0</td>\n",
       "      <td>1736000</td>\n",
       "      <td>3</td>\n",
       "      <td>3</td>\n",
       "      <td>0</td>\n",
       "      <td>0</td>\n",
       "      <td>1</td>\n",
       "      <td>0</td>\n",
       "    </tr>\n",
       "    <tr>\n",
       "      <th>914</th>\n",
       "      <td>996</td>\n",
       "      <td>40</td>\n",
       "      <td>1</td>\n",
       "      <td>0</td>\n",
       "      <td>1</td>\n",
       "      <td>1</td>\n",
       "      <td>1</td>\n",
       "      <td>1</td>\n",
       "      <td>30</td>\n",
       "      <td>8</td>\n",
       "      <td>3857000</td>\n",
       "      <td>4</td>\n",
       "      <td>1</td>\n",
       "      <td>0</td>\n",
       "      <td>0</td>\n",
       "      <td>1</td>\n",
       "      <td>0</td>\n",
       "    </tr>\n",
       "    <tr>\n",
       "      <th>915</th>\n",
       "      <td>997</td>\n",
       "      <td>38</td>\n",
       "      <td>1</td>\n",
       "      <td>3</td>\n",
       "      <td>1</td>\n",
       "      <td>7</td>\n",
       "      <td>1</td>\n",
       "      <td>1</td>\n",
       "      <td>12</td>\n",
       "      <td>5</td>\n",
       "      <td>804000</td>\n",
       "      <td>4</td>\n",
       "      <td>2</td>\n",
       "      <td>0</td>\n",
       "      <td>0</td>\n",
       "      <td>1</td>\n",
       "      <td>0</td>\n",
       "    </tr>\n",
       "    <tr>\n",
       "      <th>916</th>\n",
       "      <td>998</td>\n",
       "      <td>23</td>\n",
       "      <td>1</td>\n",
       "      <td>3</td>\n",
       "      <td>0</td>\n",
       "      <td>1</td>\n",
       "      <td>1</td>\n",
       "      <td>1</td>\n",
       "      <td>45</td>\n",
       "      <td>5</td>\n",
       "      <td>1845000</td>\n",
       "      <td>4</td>\n",
       "      <td>0</td>\n",
       "      <td>0</td>\n",
       "      <td>0</td>\n",
       "      <td>1</td>\n",
       "      <td>1</td>\n",
       "    </tr>\n",
       "    <tr>\n",
       "      <th>917</th>\n",
       "      <td>999</td>\n",
       "      <td>27</td>\n",
       "      <td>1</td>\n",
       "      <td>3</td>\n",
       "      <td>1</td>\n",
       "      <td>0</td>\n",
       "      <td>1</td>\n",
       "      <td>2</td>\n",
       "      <td>45</td>\n",
       "      <td>8</td>\n",
       "      <td>4576000</td>\n",
       "      <td>3</td>\n",
       "      <td>2</td>\n",
       "      <td>0</td>\n",
       "      <td>0</td>\n",
       "      <td>1</td>\n",
       "      <td>0</td>\n",
       "    </tr>\n",
       "  </tbody>\n",
       "</table>\n",
       "<p>918 rows × 17 columns</p>\n",
       "</div>"
      ],
      "text/plain": [
       "     index  Primary_applicant_age_in_years  Gender  Marital_status  Housing  \\\n",
       "0        0                              67       1               3        1   \n",
       "1        1                              22       0               1        1   \n",
       "2        2                              49       1               3        1   \n",
       "3        4                              53       1               3        0   \n",
       "4        6                              53       1               3        1   \n",
       "..     ...                             ...     ...             ...      ...   \n",
       "913    995                              31       0               1        1   \n",
       "914    996                              40       1               0        1   \n",
       "915    997                              38       1               3        1   \n",
       "916    998                              23       1               3        0   \n",
       "917    999                              27       1               3        1   \n",
       "\n",
       "     Employed_for_at_least_years  Foreign_worker  SA_balance_type  \\\n",
       "0                              7               1                3   \n",
       "1                              1               1                1   \n",
       "2                              4               1                1   \n",
       "3                              1               1                1   \n",
       "4                              7               1                0   \n",
       "..                           ...             ...              ...   \n",
       "913                            4               1                1   \n",
       "914                            1               1                1   \n",
       "915                            7               1                1   \n",
       "916                            1               1                1   \n",
       "917                            0               1                2   \n",
       "\n",
       "     Months_loan_taken_for  Purpose  Principal_loan_amount  \\\n",
       "0                        6        5                1169000   \n",
       "1                       48        5                5951000   \n",
       "2                       12        4                2096000   \n",
       "3                       24        6                4870000   \n",
       "4                       24        0                2835000   \n",
       "..                     ...      ...                    ...   \n",
       "913                     12        0                1736000   \n",
       "914                     30        8                3857000   \n",
       "915                     12        5                 804000   \n",
       "916                     45        5                1845000   \n",
       "917                     45        8                4576000   \n",
       "\n",
       "     EMI_rate_in_percentage_of_disposable_income  Property  Has_coapplicant  \\\n",
       "0                                              4         3                0   \n",
       "1                                              2         3                0   \n",
       "2                                              2         3                0   \n",
       "3                                              3         0                0   \n",
       "4                                              3         1                0   \n",
       "..                                           ...       ...              ...   \n",
       "913                                            3         3                0   \n",
       "914                                            4         1                0   \n",
       "915                                            4         2                0   \n",
       "916                                            4         0                0   \n",
       "917                                            3         2                0   \n",
       "\n",
       "     Has_guarantor  Number_of_existing_loans_at_this_bank  high_risk_applicant  \n",
       "0                0                                      2                    0  \n",
       "1                0                                      1                    1  \n",
       "2                0                                      1                    0  \n",
       "3                0                                      2                    1  \n",
       "4                0                                      1                    0  \n",
       "..             ...                                    ...                  ...  \n",
       "913              0                                      1                    0  \n",
       "914              0                                      1                    0  \n",
       "915              0                                      1                    0  \n",
       "916              0                                      1                    1  \n",
       "917              0                                      1                    0  \n",
       "\n",
       "[918 rows x 17 columns]"
      ]
     },
     "execution_count": 113,
     "metadata": {},
     "output_type": "execute_result"
    }
   ],
   "source": [
    "df_new_1"
   ]
  },
  {
   "cell_type": "markdown",
   "metadata": {},
   "source": [
    "Understanding the final dataframe"
   ]
  },
  {
   "cell_type": "code",
   "execution_count": 114,
   "metadata": {},
   "outputs": [
    {
     "name": "stdout",
     "output_type": "stream",
     "text": [
      "<class 'pandas.core.frame.DataFrame'>\n",
      "RangeIndex: 918 entries, 0 to 917\n",
      "Data columns (total 17 columns):\n",
      " #   Column                                       Non-Null Count  Dtype\n",
      "---  ------                                       --------------  -----\n",
      " 0   index                                        918 non-null    int64\n",
      " 1   Primary_applicant_age_in_years               918 non-null    int64\n",
      " 2   Gender                                       918 non-null    int32\n",
      " 3   Marital_status                               918 non-null    int32\n",
      " 4   Housing                                      918 non-null    int32\n",
      " 5   Employed_for_at_least_years                  918 non-null    int64\n",
      " 6   Foreign_worker                               918 non-null    int32\n",
      " 7   SA_balance_type                              918 non-null    int32\n",
      " 8   Months_loan_taken_for                        918 non-null    int64\n",
      " 9   Purpose                                      918 non-null    int32\n",
      " 10  Principal_loan_amount                        918 non-null    int64\n",
      " 11  EMI_rate_in_percentage_of_disposable_income  918 non-null    int64\n",
      " 12  Property                                     918 non-null    int32\n",
      " 13  Has_coapplicant                              918 non-null    int32\n",
      " 14  Has_guarantor                                918 non-null    int32\n",
      " 15  Number_of_existing_loans_at_this_bank        918 non-null    int64\n",
      " 16  high_risk_applicant                          918 non-null    int32\n",
      "dtypes: int32(10), int64(7)\n",
      "memory usage: 86.2 KB\n"
     ]
    }
   ],
   "source": [
    "df_new_1.info()"
   ]
  },
  {
   "cell_type": "markdown",
   "metadata": {},
   "source": [
    "Understanding co-relation wrt high risk applicant column"
   ]
  },
  {
   "cell_type": "code",
   "execution_count": 115,
   "metadata": {},
   "outputs": [],
   "source": [
    "# df_new_1.corrwith(df_new_1['high_risk_applicant'])\n"
   ]
  },
  {
   "cell_type": "code",
   "execution_count": 116,
   "metadata": {},
   "outputs": [],
   "source": [
    "# df_new_1.corrwith(df_new_1['high_risk_applicant'])> 0"
   ]
  },
  {
   "cell_type": "markdown",
   "metadata": {},
   "source": [
    "Downloading dataframe which will be used for training the model"
   ]
  },
  {
   "cell_type": "code",
   "execution_count": 117,
   "metadata": {},
   "outputs": [],
   "source": [
    "df_new_1.to_csv('loan_modified.csv')"
   ]
  },
  {
   "cell_type": "code",
   "execution_count": null,
   "metadata": {},
   "outputs": [],
   "source": []
  }
 ],
 "metadata": {
  "kernelspec": {
   "display_name": "Python 3.10.4 64-bit",
   "language": "python",
   "name": "python3"
  },
  "language_info": {
   "codemirror_mode": {
    "name": "ipython",
    "version": 3
   },
   "file_extension": ".py",
   "mimetype": "text/x-python",
   "name": "python",
   "nbconvert_exporter": "python",
   "pygments_lexer": "ipython3",
   "version": "3.10.4"
  },
  "orig_nbformat": 4,
  "vscode": {
   "interpreter": {
    "hash": "15a601fdf7975e706850155ad5413a56dc0e573b90fdc3ad7d772727fd04d705"
   }
  }
 },
 "nbformat": 4,
 "nbformat_minor": 2
}
